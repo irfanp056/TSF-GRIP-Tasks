{
 "cells": [
  {
   "cell_type": "markdown",
   "metadata": {},
   "source": [
    "# Stock Market Prediction Using Neumerical & Textual Analysis : GRIP- The Sparks Foundation"
   ]
  },
  {
   "cell_type": "markdown",
   "metadata": {},
   "source": [
    "### <span style='color:lightgreen'>  Author : Irfan Pathan  </span>"
   ]
  },
  {
   "cell_type": "markdown",
   "metadata": {},
   "source": [
    "### Stock analysis is the evaluation of a particular trading instrument, an investment sector, or the market as a whole. Stock analysts attempt to determine the future activity of an instrument, sector, or market."
   ]
  },
  {
   "cell_type": "markdown",
   "metadata": {},
   "source": [
    "**Stock analysis is the practice of using information and analyzing data to make investment decisions.**"
   ]
  },
  {
   "cell_type": "markdown",
   "metadata": {},
   "source": [
    "### Objective: Create a hybrid model for stock price/performance prediction using numerical analysis of historical stock prices, and sentimental analysis of news headlines"
   ]
  },
  {
   "cell_type": "markdown",
   "metadata": {},
   "source": [
    "### Stock to analyze and predict - SENSEX (S&P BSE SENSEX)"
   ]
  },
  {
   "cell_type": "markdown",
   "metadata": {},
   "source": [
    "### Downlaod Historical Stock Prices - \"https://finance.yahoo.com/\""
   ]
  },
  {
   "cell_type": "markdown",
   "metadata": {},
   "source": [
    "### Downlaod Textual(News) Data- \"https://dataverse.harvard.edu/dataset.xhtml?persistentId=doi:10.7910/DVN/DPQMQH\""
   ]
  },
  {
   "cell_type": "markdown",
   "metadata": {},
   "source": [
    "**Using historical stock price data, I applied the Auto-ARIMA model to anticipate stock market values. To make the predictions in the sentiment analysis model, I used a variety of machine learning techniques, including Random Forest Regressor, LightGBM, Adaboost, and Xgboost.**"
   ]
  },
  {
   "cell_type": "markdown",
   "metadata": {},
   "source": [
    "So, Lets Statt the Importing Libraries"
   ]
  },
  {
   "cell_type": "code",
   "execution_count": 1,
   "metadata": {},
   "outputs": [],
   "source": [
    "#!pip install yfinance --upgrade --no-cache-dir"
   ]
  },
  {
   "cell_type": "code",
   "execution_count": 2,
   "metadata": {},
   "outputs": [
    {
     "name": "stderr",
     "output_type": "stream",
     "text": [
      "[nltk_data] Downloading package stopwords to\n",
      "[nltk_data]     /home/irfanp056/nltk_data...\n",
      "[nltk_data]   Package stopwords is already up-to-date!\n",
      "[nltk_data] Downloading package vader_lexicon to\n",
      "[nltk_data]     /home/irfanp056/nltk_data...\n",
      "[nltk_data]   Package vader_lexicon is already up-to-date!\n"
     ]
    }
   ],
   "source": [
    "import pandas as pd\n",
    "import numpy as np\n",
    "import matplotlib.pyplot as plt\n",
    "%matplotlib inline\n",
    "\n",
    "import itertools\n",
    "from statsmodels.tsa.stattools import adfuller, acf, pacf\n",
    "from statsmodels.tsa.arima_model import ARIMA\n",
    "import nltk\n",
    "import re\n",
    "from nltk.corpus import stopwords\n",
    "nltk.download('stopwords')\n",
    "nltk.download('vader_lexicon')\n",
    "from textblob import TextBlob\n",
    "from nltk.sentiment.vader import SentimentIntensityAnalyzer\n",
    "from nltk.stem.porter import PorterStemmer\n",
    "from sklearn.metrics import mean_squared_error\n",
    "from sklearn.model_selection import train_test_split\n",
    "from sklearn.ensemble import RandomForestRegressor, AdaBoostRegressor\n",
    "import xgboost \n",
    "import lightgbm \n",
    "\n",
    "import warnings\n",
    "warnings.filterwarnings('ignore')"
   ]
  },
  {
   "cell_type": "code",
   "execution_count": 3,
   "metadata": {},
   "outputs": [
    {
     "name": "stdout",
     "output_type": "stream",
     "text": [
      "[*********************100%%**********************]  1 of 1 completed\n"
     ]
    }
   ],
   "source": [
    "import yfinance as yf\n",
    "BSE_df = yf.download('^BSESN', start='2001-01-01', end='2022-03-31')"
   ]
  },
  {
   "cell_type": "code",
   "execution_count": 4,
   "metadata": {},
   "outputs": [
    {
     "data": {
      "text/html": [
       "<div>\n",
       "<style scoped>\n",
       "    .dataframe tbody tr th:only-of-type {\n",
       "        vertical-align: middle;\n",
       "    }\n",
       "\n",
       "    .dataframe tbody tr th {\n",
       "        vertical-align: top;\n",
       "    }\n",
       "\n",
       "    .dataframe thead th {\n",
       "        text-align: right;\n",
       "    }\n",
       "</style>\n",
       "<table border=\"1\" class=\"dataframe\">\n",
       "  <thead>\n",
       "    <tr style=\"text-align: right;\">\n",
       "      <th></th>\n",
       "      <th>Open</th>\n",
       "      <th>High</th>\n",
       "      <th>Low</th>\n",
       "      <th>Close</th>\n",
       "      <th>Adj Close</th>\n",
       "      <th>Volume</th>\n",
       "    </tr>\n",
       "    <tr>\n",
       "      <th>Date</th>\n",
       "      <th></th>\n",
       "      <th></th>\n",
       "      <th></th>\n",
       "      <th></th>\n",
       "      <th></th>\n",
       "      <th></th>\n",
       "    </tr>\n",
       "  </thead>\n",
       "  <tbody>\n",
       "    <tr>\n",
       "      <th>2001-01-02</th>\n",
       "      <td>3953.219971</td>\n",
       "      <td>4028.570068</td>\n",
       "      <td>3929.370117</td>\n",
       "      <td>4018.879883</td>\n",
       "      <td>4018.879883</td>\n",
       "      <td>0</td>\n",
       "    </tr>\n",
       "    <tr>\n",
       "      <th>2001-01-03</th>\n",
       "      <td>3977.580078</td>\n",
       "      <td>4067.659912</td>\n",
       "      <td>3977.580078</td>\n",
       "      <td>4060.020020</td>\n",
       "      <td>4060.020020</td>\n",
       "      <td>0</td>\n",
       "    </tr>\n",
       "    <tr>\n",
       "      <th>2001-01-04</th>\n",
       "      <td>4180.970215</td>\n",
       "      <td>4180.970215</td>\n",
       "      <td>4109.549805</td>\n",
       "      <td>4115.370117</td>\n",
       "      <td>4115.370117</td>\n",
       "      <td>0</td>\n",
       "    </tr>\n",
       "    <tr>\n",
       "      <th>2001-01-05</th>\n",
       "      <td>4116.339844</td>\n",
       "      <td>4195.009766</td>\n",
       "      <td>4115.350098</td>\n",
       "      <td>4183.729980</td>\n",
       "      <td>4183.729980</td>\n",
       "      <td>0</td>\n",
       "    </tr>\n",
       "    <tr>\n",
       "      <th>2001-01-08</th>\n",
       "      <td>4164.759766</td>\n",
       "      <td>4206.720215</td>\n",
       "      <td>4101.529785</td>\n",
       "      <td>4120.430176</td>\n",
       "      <td>4120.430176</td>\n",
       "      <td>0</td>\n",
       "    </tr>\n",
       "  </tbody>\n",
       "</table>\n",
       "</div>"
      ],
      "text/plain": [
       "                   Open         High          Low        Close    Adj Close  \\\n",
       "Date                                                                          \n",
       "2001-01-02  3953.219971  4028.570068  3929.370117  4018.879883  4018.879883   \n",
       "2001-01-03  3977.580078  4067.659912  3977.580078  4060.020020  4060.020020   \n",
       "2001-01-04  4180.970215  4180.970215  4109.549805  4115.370117  4115.370117   \n",
       "2001-01-05  4116.339844  4195.009766  4115.350098  4183.729980  4183.729980   \n",
       "2001-01-08  4164.759766  4206.720215  4101.529785  4120.430176  4120.430176   \n",
       "\n",
       "            Volume  \n",
       "Date                \n",
       "2001-01-02       0  \n",
       "2001-01-03       0  \n",
       "2001-01-04       0  \n",
       "2001-01-05       0  \n",
       "2001-01-08       0  "
      ]
     },
     "execution_count": 4,
     "metadata": {},
     "output_type": "execute_result"
    }
   ],
   "source": [
    "BSE_df.head()"
   ]
  },
  {
   "cell_type": "code",
   "execution_count": 5,
   "metadata": {},
   "outputs": [
    {
     "data": {
      "text/html": [
       "<div>\n",
       "<style scoped>\n",
       "    .dataframe tbody tr th:only-of-type {\n",
       "        vertical-align: middle;\n",
       "    }\n",
       "\n",
       "    .dataframe tbody tr th {\n",
       "        vertical-align: top;\n",
       "    }\n",
       "\n",
       "    .dataframe thead th {\n",
       "        text-align: right;\n",
       "    }\n",
       "</style>\n",
       "<table border=\"1\" class=\"dataframe\">\n",
       "  <thead>\n",
       "    <tr style=\"text-align: right;\">\n",
       "      <th></th>\n",
       "      <th>Open</th>\n",
       "      <th>High</th>\n",
       "      <th>Low</th>\n",
       "      <th>Close</th>\n",
       "      <th>Adj Close</th>\n",
       "      <th>Volume</th>\n",
       "    </tr>\n",
       "    <tr>\n",
       "      <th>Date</th>\n",
       "      <th></th>\n",
       "      <th></th>\n",
       "      <th></th>\n",
       "      <th></th>\n",
       "      <th></th>\n",
       "      <th></th>\n",
       "    </tr>\n",
       "  </thead>\n",
       "  <tbody>\n",
       "    <tr>\n",
       "      <th>2022-03-24</th>\n",
       "      <td>57190.050781</td>\n",
       "      <td>57827.988281</td>\n",
       "      <td>57138.511719</td>\n",
       "      <td>57595.679688</td>\n",
       "      <td>57595.679688</td>\n",
       "      <td>51400</td>\n",
       "    </tr>\n",
       "    <tr>\n",
       "      <th>2022-03-25</th>\n",
       "      <td>57801.718750</td>\n",
       "      <td>57845.371094</td>\n",
       "      <td>57100.238281</td>\n",
       "      <td>57362.199219</td>\n",
       "      <td>57362.199219</td>\n",
       "      <td>6900</td>\n",
       "    </tr>\n",
       "    <tr>\n",
       "      <th>2022-03-28</th>\n",
       "      <td>57472.718750</td>\n",
       "      <td>57638.339844</td>\n",
       "      <td>56825.089844</td>\n",
       "      <td>57593.488281</td>\n",
       "      <td>57593.488281</td>\n",
       "      <td>6300</td>\n",
       "    </tr>\n",
       "    <tr>\n",
       "      <th>2022-03-29</th>\n",
       "      <td>57814.761719</td>\n",
       "      <td>58001.531250</td>\n",
       "      <td>57639.351562</td>\n",
       "      <td>57943.648438</td>\n",
       "      <td>57943.648438</td>\n",
       "      <td>12100</td>\n",
       "    </tr>\n",
       "    <tr>\n",
       "      <th>2022-03-30</th>\n",
       "      <td>58362.851562</td>\n",
       "      <td>58727.781250</td>\n",
       "      <td>58176.000000</td>\n",
       "      <td>58683.988281</td>\n",
       "      <td>58683.988281</td>\n",
       "      <td>6300</td>\n",
       "    </tr>\n",
       "  </tbody>\n",
       "</table>\n",
       "</div>"
      ],
      "text/plain": [
       "                    Open          High           Low         Close  \\\n",
       "Date                                                                 \n",
       "2022-03-24  57190.050781  57827.988281  57138.511719  57595.679688   \n",
       "2022-03-25  57801.718750  57845.371094  57100.238281  57362.199219   \n",
       "2022-03-28  57472.718750  57638.339844  56825.089844  57593.488281   \n",
       "2022-03-29  57814.761719  58001.531250  57639.351562  57943.648438   \n",
       "2022-03-30  58362.851562  58727.781250  58176.000000  58683.988281   \n",
       "\n",
       "               Adj Close  Volume  \n",
       "Date                              \n",
       "2022-03-24  57595.679688   51400  \n",
       "2022-03-25  57362.199219    6900  \n",
       "2022-03-28  57593.488281    6300  \n",
       "2022-03-29  57943.648438   12100  \n",
       "2022-03-30  58683.988281    6300  "
      ]
     },
     "execution_count": 5,
     "metadata": {},
     "output_type": "execute_result"
    }
   ],
   "source": [
    "BSE_df.tail()"
   ]
  },
  {
   "cell_type": "code",
   "execution_count": 6,
   "metadata": {},
   "outputs": [],
   "source": [
    "Indian_News_df = pd.read_csv(\"india-news-headlines.csv\")"
   ]
  },
  {
   "cell_type": "code",
   "execution_count": 7,
   "metadata": {},
   "outputs": [
    {
     "data": {
      "text/html": [
       "<div>\n",
       "<style scoped>\n",
       "    .dataframe tbody tr th:only-of-type {\n",
       "        vertical-align: middle;\n",
       "    }\n",
       "\n",
       "    .dataframe tbody tr th {\n",
       "        vertical-align: top;\n",
       "    }\n",
       "\n",
       "    .dataframe thead th {\n",
       "        text-align: right;\n",
       "    }\n",
       "</style>\n",
       "<table border=\"1\" class=\"dataframe\">\n",
       "  <thead>\n",
       "    <tr style=\"text-align: right;\">\n",
       "      <th></th>\n",
       "      <th>publish_date</th>\n",
       "      <th>headline_category</th>\n",
       "      <th>headline_text</th>\n",
       "    </tr>\n",
       "  </thead>\n",
       "  <tbody>\n",
       "    <tr>\n",
       "      <th>0</th>\n",
       "      <td>20010102</td>\n",
       "      <td>unknown</td>\n",
       "      <td>Status quo will not be disturbed at Ayodhya; s...</td>\n",
       "    </tr>\n",
       "    <tr>\n",
       "      <th>1</th>\n",
       "      <td>20010102</td>\n",
       "      <td>unknown</td>\n",
       "      <td>Fissures in Hurriyat over Pak visit</td>\n",
       "    </tr>\n",
       "    <tr>\n",
       "      <th>2</th>\n",
       "      <td>20010102</td>\n",
       "      <td>unknown</td>\n",
       "      <td>America's unwanted heading for India?</td>\n",
       "    </tr>\n",
       "    <tr>\n",
       "      <th>3</th>\n",
       "      <td>20010102</td>\n",
       "      <td>unknown</td>\n",
       "      <td>For bigwigs; it is destination Goa</td>\n",
       "    </tr>\n",
       "    <tr>\n",
       "      <th>4</th>\n",
       "      <td>20010102</td>\n",
       "      <td>unknown</td>\n",
       "      <td>Extra buses to clear tourist traffic</td>\n",
       "    </tr>\n",
       "  </tbody>\n",
       "</table>\n",
       "</div>"
      ],
      "text/plain": [
       "   publish_date headline_category  \\\n",
       "0      20010102           unknown   \n",
       "1      20010102           unknown   \n",
       "2      20010102           unknown   \n",
       "3      20010102           unknown   \n",
       "4      20010102           unknown   \n",
       "\n",
       "                                       headline_text  \n",
       "0  Status quo will not be disturbed at Ayodhya; s...  \n",
       "1                Fissures in Hurriyat over Pak visit  \n",
       "2              America's unwanted heading for India?  \n",
       "3                 For bigwigs; it is destination Goa  \n",
       "4               Extra buses to clear tourist traffic  "
      ]
     },
     "execution_count": 7,
     "metadata": {},
     "output_type": "execute_result"
    }
   ],
   "source": [
    "Indian_News_df.head()"
   ]
  },
  {
   "cell_type": "code",
   "execution_count": 8,
   "metadata": {},
   "outputs": [],
   "source": [
    "BSE_df.rename(columns={'Open': 'open', 'High': 'high', 'Low': 'low', 'Close': 'close', 'Adj Close': 'adjclose', 'Volume': 'volume'}, inplace = True)"
   ]
  },
  {
   "cell_type": "code",
   "execution_count": 9,
   "metadata": {},
   "outputs": [
    {
     "data": {
      "text/plain": [
       "Index(['open', 'high', 'low', 'close', 'adjclose', 'volume'], dtype='object')"
      ]
     },
     "execution_count": 9,
     "metadata": {},
     "output_type": "execute_result"
    }
   ],
   "source": [
    "BSE_df.columns\n"
   ]
  },
  {
   "cell_type": "code",
   "execution_count": 10,
   "metadata": {},
   "outputs": [],
   "source": [
    "BSE_df.reset_index(inplace=True)\n"
   ]
  },
  {
   "cell_type": "code",
   "execution_count": 11,
   "metadata": {},
   "outputs": [
    {
     "data": {
      "text/html": [
       "<div>\n",
       "<style scoped>\n",
       "    .dataframe tbody tr th:only-of-type {\n",
       "        vertical-align: middle;\n",
       "    }\n",
       "\n",
       "    .dataframe tbody tr th {\n",
       "        vertical-align: top;\n",
       "    }\n",
       "\n",
       "    .dataframe thead th {\n",
       "        text-align: right;\n",
       "    }\n",
       "</style>\n",
       "<table border=\"1\" class=\"dataframe\">\n",
       "  <thead>\n",
       "    <tr style=\"text-align: right;\">\n",
       "      <th></th>\n",
       "      <th>Date</th>\n",
       "      <th>open</th>\n",
       "      <th>high</th>\n",
       "      <th>low</th>\n",
       "      <th>close</th>\n",
       "      <th>adjclose</th>\n",
       "      <th>volume</th>\n",
       "    </tr>\n",
       "  </thead>\n",
       "  <tbody>\n",
       "    <tr>\n",
       "      <th>0</th>\n",
       "      <td>2001-01-02</td>\n",
       "      <td>3953.219971</td>\n",
       "      <td>4028.570068</td>\n",
       "      <td>3929.370117</td>\n",
       "      <td>4018.879883</td>\n",
       "      <td>4018.879883</td>\n",
       "      <td>0</td>\n",
       "    </tr>\n",
       "    <tr>\n",
       "      <th>1</th>\n",
       "      <td>2001-01-03</td>\n",
       "      <td>3977.580078</td>\n",
       "      <td>4067.659912</td>\n",
       "      <td>3977.580078</td>\n",
       "      <td>4060.020020</td>\n",
       "      <td>4060.020020</td>\n",
       "      <td>0</td>\n",
       "    </tr>\n",
       "    <tr>\n",
       "      <th>2</th>\n",
       "      <td>2001-01-04</td>\n",
       "      <td>4180.970215</td>\n",
       "      <td>4180.970215</td>\n",
       "      <td>4109.549805</td>\n",
       "      <td>4115.370117</td>\n",
       "      <td>4115.370117</td>\n",
       "      <td>0</td>\n",
       "    </tr>\n",
       "    <tr>\n",
       "      <th>3</th>\n",
       "      <td>2001-01-05</td>\n",
       "      <td>4116.339844</td>\n",
       "      <td>4195.009766</td>\n",
       "      <td>4115.350098</td>\n",
       "      <td>4183.729980</td>\n",
       "      <td>4183.729980</td>\n",
       "      <td>0</td>\n",
       "    </tr>\n",
       "    <tr>\n",
       "      <th>4</th>\n",
       "      <td>2001-01-08</td>\n",
       "      <td>4164.759766</td>\n",
       "      <td>4206.720215</td>\n",
       "      <td>4101.529785</td>\n",
       "      <td>4120.430176</td>\n",
       "      <td>4120.430176</td>\n",
       "      <td>0</td>\n",
       "    </tr>\n",
       "  </tbody>\n",
       "</table>\n",
       "</div>"
      ],
      "text/plain": [
       "        Date         open         high          low        close     adjclose  \\\n",
       "0 2001-01-02  3953.219971  4028.570068  3929.370117  4018.879883  4018.879883   \n",
       "1 2001-01-03  3977.580078  4067.659912  3977.580078  4060.020020  4060.020020   \n",
       "2 2001-01-04  4180.970215  4180.970215  4109.549805  4115.370117  4115.370117   \n",
       "3 2001-01-05  4116.339844  4195.009766  4115.350098  4183.729980  4183.729980   \n",
       "4 2001-01-08  4164.759766  4206.720215  4101.529785  4120.430176  4120.430176   \n",
       "\n",
       "   volume  \n",
       "0       0  \n",
       "1       0  \n",
       "2       0  \n",
       "3       0  \n",
       "4       0  "
      ]
     },
     "execution_count": 11,
     "metadata": {},
     "output_type": "execute_result"
    }
   ],
   "source": [
    "BSE_df.head()"
   ]
  },
  {
   "cell_type": "code",
   "execution_count": 12,
   "metadata": {},
   "outputs": [],
   "source": [
    "BSE_df['Date'] = pd.to_datetime(BSE_df['Date'], format = '%Y%m%d')\n"
   ]
  },
  {
   "cell_type": "code",
   "execution_count": 13,
   "metadata": {},
   "outputs": [
    {
     "data": {
      "text/plain": [
       "Date        0\n",
       "open        0\n",
       "high        0\n",
       "low         0\n",
       "close       0\n",
       "adjclose    0\n",
       "volume      0\n",
       "dtype: int64"
      ]
     },
     "execution_count": 13,
     "metadata": {},
     "output_type": "execute_result"
    }
   ],
   "source": [
    "BSE_df.isnull().sum()"
   ]
  },
  {
   "cell_type": "code",
   "execution_count": 14,
   "metadata": {},
   "outputs": [
    {
     "data": {
      "text/plain": [
       "Text(0, 0.5, 'Close')"
      ]
     },
     "execution_count": 14,
     "metadata": {},
     "output_type": "execute_result"
    },
    {
     "data": {
      "image/png": "[encoded data removed]",
      "text/plain": [
       "<Figure size 1080x576 with 1 Axes>"
      ]
     },
     "metadata": {
      "needs_background": "light"
     },
     "output_type": "display_data"
    }
   ],
   "source": [
    "plt.figure(figsize=(15, 8))\n",
    "BSE_df['close'].plot()\n",
    "plt.ylabel('Close')"
   ]
  },
  {
   "cell_type": "code",
   "execution_count": 15,
   "metadata": {},
   "outputs": [
    {
     "data": {
      "text/plain": [
       "<matplotlib.legend.Legend at 0x7ff907cf07c0>"
      ]
     },
     "execution_count": 15,
     "metadata": {},
     "output_type": "execute_result"
    },
    {
     "data": {
      "image/png": "[encoded data removed]",
      "text/plain": [
       "<Figure size 1080x576 with 1 Axes>"
      ]
     },
     "metadata": {
      "needs_background": "light"
     },
     "output_type": "display_data"
    }
   ],
   "source": [
    "close = BSE_df['close']\n",
    "MA = close.rolling(window = 50).mean()\n",
    "STD = close.rolling(window = 50).std()\n",
    "\n",
    "plt.figure(figsize=(15, 8))\n",
    "BSE_df['close'].plot(color = 'b', label = 'Close')\n",
    "MA.plot(color = 'r', label = 'Rolling Mean')\n",
    "STD.plot(label = 'Rolling Standard Deviation')\n",
    "plt.legend()"
   ]
  },
  {
   "cell_type": "code",
   "execution_count": 16,
   "metadata": {},
   "outputs": [
    {
     "data": {
      "text/plain": [
       "Text(0.5, 1.0, 'Returns')"
      ]
     },
     "execution_count": 16,
     "metadata": {},
     "output_type": "execute_result"
    },
    {
     "data": {
      "image/png": "[encoded data removed]",
      "text/plain": [
       "<Figure size 1800x576 with 1 Axes>"
      ]
     },
     "metadata": {
      "needs_background": "light"
     },
     "output_type": "display_data"
    }
   ],
   "source": [
    "#Plotting returns\n",
    "Returns = close / close.shift(1) - 1\n",
    "\n",
    "plt.figure(figsize = (25,8))\n",
    "Returns.plot(label='Return', color = 'g')\n",
    "plt.title(\"Returns\")"
   ]
  },
  {
   "cell_type": "code",
   "execution_count": 17,
   "metadata": {},
   "outputs": [],
   "source": [
    "Train = BSE_df[:4000]\n",
    "Test = BSE_df[4000:]"
   ]
  },
  {
   "cell_type": "code",
   "execution_count": 18,
   "metadata": {},
   "outputs": [
    {
     "data": {
      "image/png": "[encoded data removed]",
      "text/plain": [
       "<Figure size 720x576 with 1 Axes>"
      ]
     },
     "metadata": {
      "needs_background": "light"
     },
     "output_type": "display_data"
    },
    {
     "name": "stdout",
     "output_type": "stream",
     "text": [
      "Results of Dickey Fuller Test\n",
      "ADF Test Statistic : -0.23082726465554054\n",
      "p-value : 0.9347459394256756\n",
      "Lags Used : 5\n",
      "Number of Observations Used : 3994\n",
      "Weak evidence against null hypothesis, time series is non-stationary \n"
     ]
    }
   ],
   "source": [
    "#Stationarity Series\n",
    "def test_stationarity(timeseries):\n",
    " \n",
    " #Determing Rolling Stats\n",
    " RollMean = timeseries.rolling(20).mean()\n",
    " RollSTD = timeseries.rolling(20).std()\n",
    "\n",
    " #Plot Rolling Stats:\n",
    " plt.figure(figsize = (10,8))\n",
    " plt.plot(timeseries, color = 'r', label = 'Original')\n",
    " plt.plot(RollMean, color = 'g', label = 'Rolling Mean')\n",
    " plt.plot(RollSTD, color = 'b', label = 'Rolling STD')\n",
    " plt.xlabel('Date')\n",
    " plt.legend()\n",
    " plt.title('Rolling Mean and Standard Deviation',  fontsize = 20)\n",
    " plt.show(block = False)\n",
    " \n",
    " print('Results of Dickey Fuller Test')\n",
    " Result = adfuller(timeseries, autolag = 'AIC')\n",
    " Labels = ['ADF Test Statistic','p-value','Lags Used','Number of Observations Used']\n",
    "\n",
    " for value,label in zip(Result, Labels):\n",
    "   print(label+' : '+str(value) )\n",
    " if Result[1] <= 0.05:\n",
    "   print(\"Strong evidence against the null hypothesis(Ho), reject the null hypothesis. Data is stationary\")\n",
    " else:\n",
    "   print(\"Weak evidence against null hypothesis, time series is non-stationary \")\n",
    "test_stationarity(Train['close'])"
   ]
  },
  {
   "cell_type": "code",
   "execution_count": 19,
   "metadata": {},
   "outputs": [
    {
     "data": {
      "text/plain": [
       "[<matplotlib.lines.Line2D at 0x7ff907b32af0>]"
      ]
     },
     "execution_count": 19,
     "metadata": {},
     "output_type": "execute_result"
    },
    {
     "data": {
      "image/png": "[encoded data removed]",
      "text/plain": [
       "<Figure size 1080x576 with 1 Axes>"
      ]
     },
     "metadata": {
      "needs_background": "light"
     },
     "output_type": "display_data"
    }
   ],
   "source": [
    "Train_log = np.log(Train['close']) \n",
    "Test_log = np.log(Test['close'])\n",
    "\n",
    "MAV = Train_log.rolling(24).mean() \n",
    "plt.figure(figsize = (15,8))\n",
    "plt.plot(Train_log) \n",
    "plt.plot(MAV, color = 'green') "
   ]
  },
  {
   "cell_type": "code",
   "execution_count": 20,
   "metadata": {},
   "outputs": [
    {
     "data": {
      "image/png": "[encoded data removed]",
      "text/plain": [
       "<Figure size 720x576 with 1 Axes>"
      ]
     },
     "metadata": {
      "needs_background": "light"
     },
     "output_type": "display_data"
    },
    {
     "name": "stdout",
     "output_type": "stream",
     "text": [
      "Results of Dickey Fuller Test\n",
      "ADF Test Statistic : -0.8391845066632457\n",
      "p-value : 0.8073401494171021\n",
      "Lags Used : 2\n",
      "Number of Observations Used : 3997\n",
      "Weak evidence against null hypothesis, time series is non-stationary \n"
     ]
    }
   ],
   "source": [
    "Train_log.dropna(inplace = True)\n",
    "Test_log.dropna(inplace = True)\n",
    "\n",
    "test_stationarity(Train_log)"
   ]
  },
  {
   "cell_type": "code",
   "execution_count": 21,
   "metadata": {},
   "outputs": [
    {
     "data": {
      "image/png": "[encoded data removed]",
      "text/plain": [
       "<Figure size 720x576 with 1 Axes>"
      ]
     },
     "metadata": {
      "needs_background": "light"
     },
     "output_type": "display_data"
    },
    {
     "name": "stdout",
     "output_type": "stream",
     "text": [
      "Results of Dickey Fuller Test\n",
      "ADF Test Statistic : -9.214283533280923\n",
      "p-value : 1.851811803709256e-15\n",
      "Lags Used : 22\n",
      "Number of Observations Used : 3954\n",
      "Strong evidence against the null hypothesis(Ho), reject the null hypothesis. Data is stationary\n"
     ]
    }
   ],
   "source": [
    "Train_log_Diff = Train_log - MAV\n",
    "Train_log_Diff.dropna(inplace = True)\n",
    "\n",
    "test_stationarity(Train_log_Diff)"
   ]
  },
  {
   "cell_type": "code",
   "execution_count": 22,
   "metadata": {},
   "outputs": [
    {
     "name": "stdout",
     "output_type": "stream",
     "text": [
      "Performing stepwise search to minimize aic\n",
      " ARIMA(2,1,2)(0,0,0)[0] intercept   : AIC=-22428.642, Time=3.21 sec\n",
      " ARIMA(0,1,0)(0,0,0)[0] intercept   : AIC=-22395.107, Time=0.61 sec\n",
      " ARIMA(1,1,0)(0,0,0)[0] intercept   : AIC=-22419.651, Time=0.42 sec\n",
      " ARIMA(0,1,1)(0,0,0)[0] intercept   : AIC=-22422.749, Time=1.31 sec\n",
      " ARIMA(0,1,0)(0,0,0)[0]             : AIC=-22392.527, Time=0.45 sec\n",
      " ARIMA(1,1,2)(0,0,0)[0] intercept   : AIC=-22430.682, Time=1.00 sec\n",
      " ARIMA(0,1,2)(0,0,0)[0] intercept   : AIC=-22430.360, Time=1.16 sec\n",
      " ARIMA(1,1,1)(0,0,0)[0] intercept   : AIC=-22426.624, Time=1.46 sec\n",
      " ARIMA(1,1,3)(0,0,0)[0] intercept   : AIC=-22428.724, Time=4.79 sec\n",
      " ARIMA(0,1,3)(0,0,0)[0] intercept   : AIC=-22430.775, Time=2.60 sec\n",
      " ARIMA(0,1,4)(0,0,0)[0] intercept   : AIC=-22428.778, Time=2.21 sec\n",
      " ARIMA(1,1,4)(0,0,0)[0] intercept   : AIC=-22426.809, Time=3.04 sec\n",
      " ARIMA(0,1,3)(0,0,0)[0]             : AIC=-22428.252, Time=1.14 sec\n",
      "\n",
      "Best model:  ARIMA(0,1,3)(0,0,0)[0] intercept\n",
      "Total fit time: 23.410 seconds\n"
     ]
    }
   ],
   "source": [
    "#Using auto arima to make predictions using log data\n",
    "from pmdarima import auto_arima as AR\n",
    "Model = AR(Train_log, trace = True, error_action = 'ignore', suppress_warnings = True)\n",
    "Model.fit(Train_log)\n",
    "Pred = Model.predict(n_periods = len(Test))\n",
    "Pred = pd.DataFrame(Pred,index = Test_log.index,columns=['Prediction'])"
   ]
  },
  {
   "cell_type": "code",
   "execution_count": 23,
   "metadata": {},
   "outputs": [
    {
     "data": {
      "text/plain": [
       "Text(0, 0.5, 'Actual Stock Price')"
      ]
     },
     "execution_count": 23,
     "metadata": {},
     "output_type": "execute_result"
    },
    {
     "data": {
      "image/png": "[encoded data removed]",
      "text/plain": [
       "<Figure size 1440x576 with 1 Axes>"
      ]
     },
     "metadata": {
      "needs_background": "light"
     },
     "output_type": "display_data"
    }
   ],
   "source": [
    "plt.figure(figsize = (20,8))\n",
    "plt.plot(Train_log, label='Train')\n",
    "plt.plot(Test_log, label='Test')\n",
    "plt.plot(Pred, label='Prediction')\n",
    "plt.title('BSESN Stock Price Prediction')\n",
    "plt.xlabel('Time')\n",
    "plt.ylabel('Actual Stock Price')"
   ]
  },
  {
   "cell_type": "code",
   "execution_count": 24,
   "metadata": {},
   "outputs": [
    {
     "name": "stdout",
     "output_type": "stream",
     "text": [
      "RMSE :  0.10229140720679583\n"
     ]
    }
   ],
   "source": [
    "#Calculating Error\n",
    "RMS = np.sqrt(mean_squared_error(Test_log,Pred))\n",
    "print(\"RMSE : \", RMS)"
   ]
  },
  {
   "cell_type": "markdown",
   "metadata": {},
   "source": [
    "# TEXTUAL ANALYSIS"
   ]
  },
  {
   "cell_type": "code",
   "execution_count": 25,
   "metadata": {},
   "outputs": [],
   "source": [
    "News = pd.read_csv(\"india-news-headlines.csv\")"
   ]
  },
  {
   "cell_type": "code",
   "execution_count": 26,
   "metadata": {},
   "outputs": [
    {
     "data": {
      "text/html": [
       "<div>\n",
       "<style scoped>\n",
       "    .dataframe tbody tr th:only-of-type {\n",
       "        vertical-align: middle;\n",
       "    }\n",
       "\n",
       "    .dataframe tbody tr th {\n",
       "        vertical-align: top;\n",
       "    }\n",
       "\n",
       "    .dataframe thead th {\n",
       "        text-align: right;\n",
       "    }\n",
       "</style>\n",
       "<table border=\"1\" class=\"dataframe\">\n",
       "  <thead>\n",
       "    <tr style=\"text-align: right;\">\n",
       "      <th></th>\n",
       "      <th>publish_date</th>\n",
       "      <th>headline_category</th>\n",
       "      <th>headline_text</th>\n",
       "    </tr>\n",
       "  </thead>\n",
       "  <tbody>\n",
       "    <tr>\n",
       "      <th>0</th>\n",
       "      <td>20010102</td>\n",
       "      <td>unknown</td>\n",
       "      <td>Status quo will not be disturbed at Ayodhya; s...</td>\n",
       "    </tr>\n",
       "    <tr>\n",
       "      <th>1</th>\n",
       "      <td>20010102</td>\n",
       "      <td>unknown</td>\n",
       "      <td>Fissures in Hurriyat over Pak visit</td>\n",
       "    </tr>\n",
       "    <tr>\n",
       "      <th>2</th>\n",
       "      <td>20010102</td>\n",
       "      <td>unknown</td>\n",
       "      <td>America's unwanted heading for India?</td>\n",
       "    </tr>\n",
       "    <tr>\n",
       "      <th>3</th>\n",
       "      <td>20010102</td>\n",
       "      <td>unknown</td>\n",
       "      <td>For bigwigs; it is destination Goa</td>\n",
       "    </tr>\n",
       "    <tr>\n",
       "      <th>4</th>\n",
       "      <td>20010102</td>\n",
       "      <td>unknown</td>\n",
       "      <td>Extra buses to clear tourist traffic</td>\n",
       "    </tr>\n",
       "  </tbody>\n",
       "</table>\n",
       "</div>"
      ],
      "text/plain": [
       "   publish_date headline_category  \\\n",
       "0      20010102           unknown   \n",
       "1      20010102           unknown   \n",
       "2      20010102           unknown   \n",
       "3      20010102           unknown   \n",
       "4      20010102           unknown   \n",
       "\n",
       "                                       headline_text  \n",
       "0  Status quo will not be disturbed at Ayodhya; s...  \n",
       "1                Fissures in Hurriyat over Pak visit  \n",
       "2              America's unwanted heading for India?  \n",
       "3                 For bigwigs; it is destination Goa  \n",
       "4               Extra buses to clear tourist traffic  "
      ]
     },
     "execution_count": 26,
     "metadata": {},
     "output_type": "execute_result"
    }
   ],
   "source": [
    "News.head()"
   ]
  },
  {
   "cell_type": "code",
   "execution_count": 27,
   "metadata": {},
   "outputs": [],
   "source": [
    "News['publish_date'] = pd.to_datetime(News['publish_date'], format = '%Y%m%d')\n"
   ]
  },
  {
   "cell_type": "code",
   "execution_count": 28,
   "metadata": {},
   "outputs": [
    {
     "data": {
      "text/html": [
       "<div>\n",
       "<style scoped>\n",
       "    .dataframe tbody tr th:only-of-type {\n",
       "        vertical-align: middle;\n",
       "    }\n",
       "\n",
       "    .dataframe tbody tr th {\n",
       "        vertical-align: top;\n",
       "    }\n",
       "\n",
       "    .dataframe thead th {\n",
       "        text-align: right;\n",
       "    }\n",
       "</style>\n",
       "<table border=\"1\" class=\"dataframe\">\n",
       "  <thead>\n",
       "    <tr style=\"text-align: right;\">\n",
       "      <th></th>\n",
       "      <th>publish_date</th>\n",
       "      <th>headline_category</th>\n",
       "      <th>headline_text</th>\n",
       "    </tr>\n",
       "  </thead>\n",
       "  <tbody>\n",
       "    <tr>\n",
       "      <th>0</th>\n",
       "      <td>2001-01-02</td>\n",
       "      <td>unknown</td>\n",
       "      <td>Status quo will not be disturbed at Ayodhya; s...</td>\n",
       "    </tr>\n",
       "    <tr>\n",
       "      <th>1</th>\n",
       "      <td>2001-01-02</td>\n",
       "      <td>unknown</td>\n",
       "      <td>Fissures in Hurriyat over Pak visit</td>\n",
       "    </tr>\n",
       "    <tr>\n",
       "      <th>2</th>\n",
       "      <td>2001-01-02</td>\n",
       "      <td>unknown</td>\n",
       "      <td>America's unwanted heading for India?</td>\n",
       "    </tr>\n",
       "    <tr>\n",
       "      <th>3</th>\n",
       "      <td>2001-01-02</td>\n",
       "      <td>unknown</td>\n",
       "      <td>For bigwigs; it is destination Goa</td>\n",
       "    </tr>\n",
       "    <tr>\n",
       "      <th>4</th>\n",
       "      <td>2001-01-02</td>\n",
       "      <td>unknown</td>\n",
       "      <td>Extra buses to clear tourist traffic</td>\n",
       "    </tr>\n",
       "  </tbody>\n",
       "</table>\n",
       "</div>"
      ],
      "text/plain": [
       "  publish_date headline_category  \\\n",
       "0   2001-01-02           unknown   \n",
       "1   2001-01-02           unknown   \n",
       "2   2001-01-02           unknown   \n",
       "3   2001-01-02           unknown   \n",
       "4   2001-01-02           unknown   \n",
       "\n",
       "                                       headline_text  \n",
       "0  Status quo will not be disturbed at Ayodhya; s...  \n",
       "1                Fissures in Hurriyat over Pak visit  \n",
       "2              America's unwanted heading for India?  \n",
       "3                 For bigwigs; it is destination Goa  \n",
       "4               Extra buses to clear tourist traffic  "
      ]
     },
     "execution_count": 28,
     "metadata": {},
     "output_type": "execute_result"
    }
   ],
   "source": [
    "News.head()"
   ]
  },
  {
   "cell_type": "code",
   "execution_count": 29,
   "metadata": {},
   "outputs": [
    {
     "data": {
      "text/plain": [
       "array(['unknown', 'entertainment.hindi.bollywood', 'india', ...,\n",
       "       'sports.football.euro-2021', 'business.markets.ipo',\n",
       "       'sports.tokyo-olympics.india-in-tokyo'], dtype=object)"
      ]
     },
     "execution_count": 29,
     "metadata": {},
     "output_type": "execute_result"
    }
   ],
   "source": [
    "News['headline_category'].unique()"
   ]
  },
  {
   "cell_type": "code",
   "execution_count": 30,
   "metadata": {},
   "outputs": [
    {
     "data": {
      "text/plain": [
       "india                                                    297491\n",
       "unknown                                                  209583\n",
       "city.mumbai                                              150451\n",
       "city.delhi                                               137648\n",
       "business.india-business                                  121195\n",
       "                                                          ...  \n",
       "nepal-india-earthquake.opinion                                8\n",
       "elections.lok-sabha-elections-2019.tripura.news               8\n",
       "best-products.home-decor-and-garden.living-room-decor         8\n",
       "profiles.india-profiles                                       8\n",
       "pms-us-visit                                                  8\n",
       "Name: headline_category, Length: 1041, dtype: int64"
      ]
     },
     "execution_count": 30,
     "metadata": {},
     "output_type": "execute_result"
    }
   ],
   "source": [
    "News['headline_category'].value_counts()"
   ]
  },
  {
   "cell_type": "code",
   "execution_count": 31,
   "metadata": {},
   "outputs": [
    {
     "data": {
      "text/plain": [
       "1041"
      ]
     },
     "execution_count": 31,
     "metadata": {},
     "output_type": "execute_result"
    }
   ],
   "source": [
    "News['headline_category'].value_counts().count()"
   ]
  },
  {
   "cell_type": "code",
   "execution_count": 32,
   "metadata": {},
   "outputs": [
    {
     "data": {
      "text/plain": [
       "Straight Answers                                                                                                          6723\n",
       "Cartoons                                                                                                                  1536\n",
       "Straight answers                                                                                                          1500\n",
       "Photogallery                                                                                                              1353\n",
       "Your say                                                                                                                  1012\n",
       "                                                                                                                          ... \n",
       "Pak President Asif Ali Zardari at 7RCR; meets Manmohan Singh                                                                 1\n",
       "Why Goa Inc is so happy with CM Manohar Parrikar                                                                             1\n",
       "American Tourister eyes Rs 100 crore from backpacks in 2012                                                                  1\n",
       "Book 'Ek Hota Carver' soon in audio form                                                                                     1\n",
       "Ranbir Kapoor says 'Rishi Kapoor enjoyed his alcohol; food and ensured to have at least one meal together with family'       1\n",
       "Name: headline_text, Length: 3387380, dtype: int64"
      ]
     },
     "execution_count": 32,
     "metadata": {},
     "output_type": "execute_result"
    }
   ],
   "source": [
    "News['headline_text'].value_counts()"
   ]
  },
  {
   "cell_type": "code",
   "execution_count": 33,
   "metadata": {},
   "outputs": [
    {
     "data": {
      "text/plain": [
       "3387380"
      ]
     },
     "execution_count": 33,
     "metadata": {},
     "output_type": "execute_result"
    }
   ],
   "source": [
    "News['headline_text'].value_counts().count()\n"
   ]
  },
  {
   "cell_type": "code",
   "execution_count": 34,
   "metadata": {},
   "outputs": [
    {
     "data": {
      "text/plain": [
       "publish_date         0\n",
       "headline_category    0\n",
       "headline_text        0\n",
       "dtype: int64"
      ]
     },
     "execution_count": 34,
     "metadata": {},
     "output_type": "execute_result"
    }
   ],
   "source": [
    "News.isnull().sum()"
   ]
  },
  {
   "cell_type": "code",
   "execution_count": 35,
   "metadata": {},
   "outputs": [
    {
     "data": {
      "text/plain": [
       "24860"
      ]
     },
     "execution_count": 35,
     "metadata": {},
     "output_type": "execute_result"
    }
   ],
   "source": [
    "#determining whether any duplicate values exist\n",
    "\n",
    "News.duplicated().sum()"
   ]
  },
  {
   "cell_type": "code",
   "execution_count": 36,
   "metadata": {},
   "outputs": [
    {
     "data": {
      "text/plain": [
       "47452"
      ]
     },
     "execution_count": 36,
     "metadata": {},
     "output_type": "execute_result"
    }
   ],
   "source": [
    "#simple verification by declaring all duplicates as True. First is the default setting, which flags duplicates as False everywhere but the first instance.\n",
    "News.duplicated(keep=False).sum()"
   ]
  },
  {
   "cell_type": "code",
   "execution_count": 37,
   "metadata": {},
   "outputs": [],
   "source": [
    "Cols = list(News.columns)\n",
    "\n",
    "News.sort_values(by=Cols, inplace=True, ignore_index=True)"
   ]
  },
  {
   "cell_type": "code",
   "execution_count": 38,
   "metadata": {},
   "outputs": [
    {
     "data": {
      "text/html": [
       "<div>\n",
       "<style scoped>\n",
       "    .dataframe tbody tr th:only-of-type {\n",
       "        vertical-align: middle;\n",
       "    }\n",
       "\n",
       "    .dataframe tbody tr th {\n",
       "        vertical-align: top;\n",
       "    }\n",
       "\n",
       "    .dataframe thead th {\n",
       "        text-align: right;\n",
       "    }\n",
       "</style>\n",
       "<table border=\"1\" class=\"dataframe\">\n",
       "  <thead>\n",
       "    <tr style=\"text-align: right;\">\n",
       "      <th></th>\n",
       "      <th>publish_date</th>\n",
       "      <th>headline_category</th>\n",
       "      <th>headline_text</th>\n",
       "    </tr>\n",
       "  </thead>\n",
       "  <tbody>\n",
       "    <tr>\n",
       "      <th>3</th>\n",
       "      <td>2001-01-02</td>\n",
       "      <td>unknown</td>\n",
       "      <td>America's unwanted heading for India?</td>\n",
       "    </tr>\n",
       "    <tr>\n",
       "      <th>4</th>\n",
       "      <td>2001-01-02</td>\n",
       "      <td>unknown</td>\n",
       "      <td>America's unwanted heading for India?</td>\n",
       "    </tr>\n",
       "    <tr>\n",
       "      <th>5</th>\n",
       "      <td>2001-01-02</td>\n",
       "      <td>unknown</td>\n",
       "      <td>America's unwanted heading for India?</td>\n",
       "    </tr>\n",
       "    <tr>\n",
       "      <th>6</th>\n",
       "      <td>2001-01-02</td>\n",
       "      <td>unknown</td>\n",
       "      <td>America's unwanted heading for India?</td>\n",
       "    </tr>\n",
       "    <tr>\n",
       "      <th>9</th>\n",
       "      <td>2001-01-02</td>\n",
       "      <td>unknown</td>\n",
       "      <td>BBC's reality TV will focus on AIIMS</td>\n",
       "    </tr>\n",
       "    <tr>\n",
       "      <th>...</th>\n",
       "      <td>...</td>\n",
       "      <td>...</td>\n",
       "      <td>...</td>\n",
       "    </tr>\n",
       "    <tr>\n",
       "      <th>3646165</th>\n",
       "      <td>2022-03-22</td>\n",
       "      <td>city.hubballi</td>\n",
       "      <td>BJP divided over probable induction of Basavar...</td>\n",
       "    </tr>\n",
       "    <tr>\n",
       "      <th>3648600</th>\n",
       "      <td>2022-03-27</td>\n",
       "      <td>city.chennai</td>\n",
       "      <td>Father; daughter killed in TN as e-bike on cha...</td>\n",
       "    </tr>\n",
       "    <tr>\n",
       "      <th>3648601</th>\n",
       "      <td>2022-03-27</td>\n",
       "      <td>city.chennai</td>\n",
       "      <td>Father; daughter killed in TN as e-bike on cha...</td>\n",
       "    </tr>\n",
       "    <tr>\n",
       "      <th>3649664</th>\n",
       "      <td>2022-03-29</td>\n",
       "      <td>city.hyderabad</td>\n",
       "      <td>Telangana logs 30 new Covid cases</td>\n",
       "    </tr>\n",
       "    <tr>\n",
       "      <th>3649665</th>\n",
       "      <td>2022-03-29</td>\n",
       "      <td>city.hyderabad</td>\n",
       "      <td>Telangana logs 30 new Covid cases</td>\n",
       "    </tr>\n",
       "  </tbody>\n",
       "</table>\n",
       "<p>47452 rows × 3 columns</p>\n",
       "</div>"
      ],
      "text/plain": [
       "        publish_date headline_category  \\\n",
       "3         2001-01-02           unknown   \n",
       "4         2001-01-02           unknown   \n",
       "5         2001-01-02           unknown   \n",
       "6         2001-01-02           unknown   \n",
       "9         2001-01-02           unknown   \n",
       "...              ...               ...   \n",
       "3646165   2022-03-22     city.hubballi   \n",
       "3648600   2022-03-27      city.chennai   \n",
       "3648601   2022-03-27      city.chennai   \n",
       "3649664   2022-03-29    city.hyderabad   \n",
       "3649665   2022-03-29    city.hyderabad   \n",
       "\n",
       "                                             headline_text  \n",
       "3                    America's unwanted heading for India?  \n",
       "4                    America's unwanted heading for India?  \n",
       "5                    America's unwanted heading for India?  \n",
       "6                    America's unwanted heading for India?  \n",
       "9                     BBC's reality TV will focus on AIIMS  \n",
       "...                                                    ...  \n",
       "3646165  BJP divided over probable induction of Basavar...  \n",
       "3648600  Father; daughter killed in TN as e-bike on cha...  \n",
       "3648601  Father; daughter killed in TN as e-bike on cha...  \n",
       "3649664                  Telangana logs 30 new Covid cases  \n",
       "3649665                  Telangana logs 30 new Covid cases  \n",
       "\n",
       "[47452 rows x 3 columns]"
      ]
     },
     "execution_count": 38,
     "metadata": {},
     "output_type": "execute_result"
    }
   ],
   "source": [
    "News[News.duplicated(keep=False)]"
   ]
  },
  {
   "cell_type": "code",
   "execution_count": 39,
   "metadata": {},
   "outputs": [],
   "source": [
    "#removing duplicates only maintaining the final value of each duplicate (often the last row from the sorted order)\n",
    "\n",
    "News.drop_duplicates(keep='last', inplace=True, ignore_index=True)"
   ]
  },
  {
   "cell_type": "code",
   "execution_count": 40,
   "metadata": {},
   "outputs": [
    {
     "data": {
      "text/plain": [
       "0"
      ]
     },
     "execution_count": 40,
     "metadata": {},
     "output_type": "execute_result"
    }
   ],
   "source": [
    "News.duplicated().sum()\n"
   ]
  },
  {
   "cell_type": "markdown",
   "metadata": {},
   "source": [
    "### Use of TextBlob to "
   ]
  },
  {
   "cell_type": "code",
   "execution_count": 41,
   "metadata": {},
   "outputs": [],
   "source": [
    "#getting a list of unique dates in publish_date column\n",
    "\n",
    "New_List = News['publish_date'].value_counts().index.tolist()"
   ]
  },
  {
   "cell_type": "code",
   "execution_count": 42,
   "metadata": {},
   "outputs": [],
   "source": [
    "#combining all headline_text column values that correspond to the same date in the publish_date column\n",
    "data = []\n",
    "for x in New_List:\n",
    "  df = News.loc[News['publish_date'] == x]\n",
    "  headlinetext = ''\n",
    "  publishdate = str(x)\n",
    "  headlinetext = df['headline_text'].iloc[0]\n",
    "  for i in range(1 , len(df)):\n",
    "    headlinetext = headlinetext + '. '+ str(df['headline_text'].iloc[i])  \n",
    "  data.append(headlinetext)"
   ]
  },
  {
   "cell_type": "code",
   "execution_count": 43,
   "metadata": {},
   "outputs": [],
   "source": [
    "# Create a New Dataframe\n",
    "News_df = pd.DataFrame({'publish_date': New_List, 'headline_text' : data})"
   ]
  },
  {
   "cell_type": "code",
   "execution_count": 44,
   "metadata": {},
   "outputs": [
    {
     "data": {
      "text/html": [
       "<div>\n",
       "<style scoped>\n",
       "    .dataframe tbody tr th:only-of-type {\n",
       "        vertical-align: middle;\n",
       "    }\n",
       "\n",
       "    .dataframe tbody tr th {\n",
       "        vertical-align: top;\n",
       "    }\n",
       "\n",
       "    .dataframe thead th {\n",
       "        text-align: right;\n",
       "    }\n",
       "</style>\n",
       "<table border=\"1\" class=\"dataframe\">\n",
       "  <thead>\n",
       "    <tr style=\"text-align: right;\">\n",
       "      <th></th>\n",
       "      <th>publish_date</th>\n",
       "      <th>headline_text</th>\n",
       "    </tr>\n",
       "  </thead>\n",
       "  <tbody>\n",
       "    <tr>\n",
       "      <th>0</th>\n",
       "      <td>2014-12-15</td>\n",
       "      <td>Golden Homes III. Golden Panorama. Hanging Gar...</td>\n",
       "    </tr>\n",
       "    <tr>\n",
       "      <th>1</th>\n",
       "      <td>2014-12-21</td>\n",
       "      <td>Eight companies add Rs 55;171 crore in m-cap; ...</td>\n",
       "    </tr>\n",
       "    <tr>\n",
       "      <th>2</th>\n",
       "      <td>2014-12-09</td>\n",
       "      <td>Audi-Vredestein driving experience. Benelli TN...</td>\n",
       "    </tr>\n",
       "    <tr>\n",
       "      <th>3</th>\n",
       "      <td>2014-11-29</td>\n",
       "      <td>6 CARE IPO merchant bankers fined Rs 1 crore. ...</td>\n",
       "    </tr>\n",
       "    <tr>\n",
       "      <th>4</th>\n",
       "      <td>2014-12-27</td>\n",
       "      <td>New generation Audi Q7 being tested in India. ...</td>\n",
       "    </tr>\n",
       "  </tbody>\n",
       "</table>\n",
       "</div>"
      ],
      "text/plain": [
       "  publish_date                                      headline_text\n",
       "0   2014-12-15  Golden Homes III. Golden Panorama. Hanging Gar...\n",
       "1   2014-12-21  Eight companies add Rs 55;171 crore in m-cap; ...\n",
       "2   2014-12-09  Audi-Vredestein driving experience. Benelli TN...\n",
       "3   2014-11-29  6 CARE IPO merchant bankers fined Rs 1 crore. ...\n",
       "4   2014-12-27  New generation Audi Q7 being tested in India. ..."
      ]
     },
     "execution_count": 44,
     "metadata": {},
     "output_type": "execute_result"
    }
   ],
   "source": [
    "News_df.head()"
   ]
  },
  {
   "cell_type": "code",
   "execution_count": 45,
   "metadata": {},
   "outputs": [],
   "source": [
    "# Sort the dataframe based on dates\n",
    "News_df.sort_values(by='publish_date', inplace=True, ignore_index=True)"
   ]
  },
  {
   "cell_type": "code",
   "execution_count": 46,
   "metadata": {},
   "outputs": [
    {
     "data": {
      "text/html": [
       "<div>\n",
       "<style scoped>\n",
       "    .dataframe tbody tr th:only-of-type {\n",
       "        vertical-align: middle;\n",
       "    }\n",
       "\n",
       "    .dataframe tbody tr th {\n",
       "        vertical-align: top;\n",
       "    }\n",
       "\n",
       "    .dataframe thead th {\n",
       "        text-align: right;\n",
       "    }\n",
       "</style>\n",
       "<table border=\"1\" class=\"dataframe\">\n",
       "  <thead>\n",
       "    <tr style=\"text-align: right;\">\n",
       "      <th></th>\n",
       "      <th>publish_date</th>\n",
       "      <th>headline_text</th>\n",
       "    </tr>\n",
       "  </thead>\n",
       "  <tbody>\n",
       "    <tr>\n",
       "      <th>0</th>\n",
       "      <td>2001-01-02</td>\n",
       "      <td>Raju Chacha. A noisy effort to spruce up Comme...</td>\n",
       "    </tr>\n",
       "    <tr>\n",
       "      <th>1</th>\n",
       "      <td>2001-01-03</td>\n",
       "      <td>'Devdas': Jinxed?. 10-year-old girl missing. 3...</td>\n",
       "    </tr>\n",
       "    <tr>\n",
       "      <th>2</th>\n",
       "      <td>2001-01-04</td>\n",
       "      <td>Car dealers caught in Bihar sales tax ruling. ...</td>\n",
       "    </tr>\n",
       "    <tr>\n",
       "      <th>3</th>\n",
       "      <td>2001-01-05</td>\n",
       "      <td>Nepal won't allow anti-India activities: Envoy...</td>\n",
       "    </tr>\n",
       "    <tr>\n",
       "      <th>4</th>\n",
       "      <td>2001-01-06</td>\n",
       "      <td>Anti-immigration think-tank berates Clinton re...</td>\n",
       "    </tr>\n",
       "  </tbody>\n",
       "</table>\n",
       "</div>"
      ],
      "text/plain": [
       "  publish_date                                      headline_text\n",
       "0   2001-01-02  Raju Chacha. A noisy effort to spruce up Comme...\n",
       "1   2001-01-03  'Devdas': Jinxed?. 10-year-old girl missing. 3...\n",
       "2   2001-01-04  Car dealers caught in Bihar sales tax ruling. ...\n",
       "3   2001-01-05  Nepal won't allow anti-India activities: Envoy...\n",
       "4   2001-01-06  Anti-immigration think-tank berates Clinton re..."
      ]
     },
     "execution_count": 46,
     "metadata": {},
     "output_type": "execute_result"
    }
   ],
   "source": [
    "News_df.head()"
   ]
  },
  {
   "cell_type": "code",
   "execution_count": 47,
   "metadata": {},
   "outputs": [
    {
     "name": "stdout",
     "output_type": "stream",
     "text": [
      "<class 'pandas.core.frame.DataFrame'>\n",
      "RangeIndex: 7717 entries, 0 to 7716\n",
      "Data columns (total 2 columns):\n",
      " #   Column         Non-Null Count  Dtype         \n",
      "---  ------         --------------  -----         \n",
      " 0   publish_date   7717 non-null   datetime64[ns]\n",
      " 1   headline_text  7717 non-null   object        \n",
      "dtypes: datetime64[ns](1), object(1)\n",
      "memory usage: 120.7+ KB\n"
     ]
    }
   ],
   "source": [
    "News_df.info()"
   ]
  },
  {
   "cell_type": "code",
   "execution_count": 48,
   "metadata": {},
   "outputs": [],
   "source": [
    "polarity = []\n",
    "subjectivity = []\n",
    "for idx, row in News_df.iterrows():\n",
    "  polarity.append(TextBlob(row['headline_text']).sentiment[0])\n",
    "  subjectivity.append(TextBlob(row['headline_text']).sentiment[1])"
   ]
  },
  {
   "cell_type": "code",
   "execution_count": 49,
   "metadata": {},
   "outputs": [],
   "source": [
    "News_df['polarity'] = polarity\n",
    "News_df['subjectivity'] = subjectivity"
   ]
  },
  {
   "cell_type": "code",
   "execution_count": 50,
   "metadata": {},
   "outputs": [
    {
     "data": {
      "text/html": [
       "<div>\n",
       "<style scoped>\n",
       "    .dataframe tbody tr th:only-of-type {\n",
       "        vertical-align: middle;\n",
       "    }\n",
       "\n",
       "    .dataframe tbody tr th {\n",
       "        vertical-align: top;\n",
       "    }\n",
       "\n",
       "    .dataframe thead th {\n",
       "        text-align: right;\n",
       "    }\n",
       "</style>\n",
       "<table border=\"1\" class=\"dataframe\">\n",
       "  <thead>\n",
       "    <tr style=\"text-align: right;\">\n",
       "      <th></th>\n",
       "      <th>publish_date</th>\n",
       "      <th>headline_text</th>\n",
       "      <th>polarity</th>\n",
       "      <th>subjectivity</th>\n",
       "    </tr>\n",
       "  </thead>\n",
       "  <tbody>\n",
       "    <tr>\n",
       "      <th>0</th>\n",
       "      <td>2001-01-02</td>\n",
       "      <td>Raju Chacha. A noisy effort to spruce up Comme...</td>\n",
       "      <td>0.193519</td>\n",
       "      <td>0.293056</td>\n",
       "    </tr>\n",
       "    <tr>\n",
       "      <th>1</th>\n",
       "      <td>2001-01-03</td>\n",
       "      <td>'Devdas': Jinxed?. 10-year-old girl missing. 3...</td>\n",
       "      <td>0.088462</td>\n",
       "      <td>0.407692</td>\n",
       "    </tr>\n",
       "    <tr>\n",
       "      <th>2</th>\n",
       "      <td>2001-01-04</td>\n",
       "      <td>Car dealers caught in Bihar sales tax ruling. ...</td>\n",
       "      <td>0.091426</td>\n",
       "      <td>0.481895</td>\n",
       "    </tr>\n",
       "    <tr>\n",
       "      <th>3</th>\n",
       "      <td>2001-01-05</td>\n",
       "      <td>Nepal won't allow anti-India activities: Envoy...</td>\n",
       "      <td>0.257415</td>\n",
       "      <td>0.465542</td>\n",
       "    </tr>\n",
       "    <tr>\n",
       "      <th>4</th>\n",
       "      <td>2001-01-06</td>\n",
       "      <td>Anti-immigration think-tank berates Clinton re...</td>\n",
       "      <td>0.219481</td>\n",
       "      <td>0.464935</td>\n",
       "    </tr>\n",
       "  </tbody>\n",
       "</table>\n",
       "</div>"
      ],
      "text/plain": [
       "  publish_date                                      headline_text  polarity  \\\n",
       "0   2001-01-02  Raju Chacha. A noisy effort to spruce up Comme...  0.193519   \n",
       "1   2001-01-03  'Devdas': Jinxed?. 10-year-old girl missing. 3...  0.088462   \n",
       "2   2001-01-04  Car dealers caught in Bihar sales tax ruling. ...  0.091426   \n",
       "3   2001-01-05  Nepal won't allow anti-India activities: Envoy...  0.257415   \n",
       "4   2001-01-06  Anti-immigration think-tank berates Clinton re...  0.219481   \n",
       "\n",
       "   subjectivity  \n",
       "0      0.293056  \n",
       "1      0.407692  \n",
       "2      0.481895  \n",
       "3      0.465542  \n",
       "4      0.464935  "
      ]
     },
     "execution_count": 50,
     "metadata": {},
     "output_type": "execute_result"
    }
   ],
   "source": [
    "News_df.head()"
   ]
  },
  {
   "cell_type": "code",
   "execution_count": 51,
   "metadata": {},
   "outputs": [
    {
     "data": {
      "text/plain": [
       "publish_date     0\n",
       "headline_text    0\n",
       "polarity         0\n",
       "subjectivity     0\n",
       "dtype: int64"
      ]
     },
     "execution_count": 51,
     "metadata": {},
     "output_type": "execute_result"
    }
   ],
   "source": [
    "News_df.isnull().sum()"
   ]
  },
  {
   "cell_type": "code",
   "execution_count": 52,
   "metadata": {},
   "outputs": [
    {
     "data": {
      "text/html": [
       "<div>\n",
       "<style scoped>\n",
       "    .dataframe tbody tr th:only-of-type {\n",
       "        vertical-align: middle;\n",
       "    }\n",
       "\n",
       "    .dataframe tbody tr th {\n",
       "        vertical-align: top;\n",
       "    }\n",
       "\n",
       "    .dataframe thead th {\n",
       "        text-align: right;\n",
       "    }\n",
       "</style>\n",
       "<table border=\"1\" class=\"dataframe\">\n",
       "  <thead>\n",
       "    <tr style=\"text-align: right;\">\n",
       "      <th></th>\n",
       "      <th>publish_date</th>\n",
       "      <th>headline_text</th>\n",
       "      <th>polarity</th>\n",
       "      <th>subjectivity</th>\n",
       "    </tr>\n",
       "  </thead>\n",
       "  <tbody>\n",
       "    <tr>\n",
       "      <th>0</th>\n",
       "      <td>2001-01-02</td>\n",
       "      <td>Raju Chacha. A noisy effort to spruce up Comme...</td>\n",
       "      <td>0.193519</td>\n",
       "      <td>0.293056</td>\n",
       "    </tr>\n",
       "    <tr>\n",
       "      <th>1</th>\n",
       "      <td>2001-01-03</td>\n",
       "      <td>'Devdas': Jinxed?. 10-year-old girl missing. 3...</td>\n",
       "      <td>0.088462</td>\n",
       "      <td>0.407692</td>\n",
       "    </tr>\n",
       "    <tr>\n",
       "      <th>2</th>\n",
       "      <td>2001-01-04</td>\n",
       "      <td>Car dealers caught in Bihar sales tax ruling. ...</td>\n",
       "      <td>0.091426</td>\n",
       "      <td>0.481895</td>\n",
       "    </tr>\n",
       "    <tr>\n",
       "      <th>3</th>\n",
       "      <td>2001-01-05</td>\n",
       "      <td>Nepal won't allow anti-India activities: Envoy...</td>\n",
       "      <td>0.257415</td>\n",
       "      <td>0.465542</td>\n",
       "    </tr>\n",
       "    <tr>\n",
       "      <th>4</th>\n",
       "      <td>2001-01-06</td>\n",
       "      <td>Anti-immigration think-tank berates Clinton re...</td>\n",
       "      <td>0.219481</td>\n",
       "      <td>0.464935</td>\n",
       "    </tr>\n",
       "  </tbody>\n",
       "</table>\n",
       "</div>"
      ],
      "text/plain": [
       "  publish_date                                      headline_text  polarity  \\\n",
       "0   2001-01-02  Raju Chacha. A noisy effort to spruce up Comme...  0.193519   \n",
       "1   2001-01-03  'Devdas': Jinxed?. 10-year-old girl missing. 3...  0.088462   \n",
       "2   2001-01-04  Car dealers caught in Bihar sales tax ruling. ...  0.091426   \n",
       "3   2001-01-05  Nepal won't allow anti-India activities: Envoy...  0.257415   \n",
       "4   2001-01-06  Anti-immigration think-tank berates Clinton re...  0.219481   \n",
       "\n",
       "   subjectivity  \n",
       "0      0.293056  \n",
       "1      0.407692  \n",
       "2      0.481895  \n",
       "3      0.465542  \n",
       "4      0.464935  "
      ]
     },
     "execution_count": 52,
     "metadata": {},
     "output_type": "execute_result"
    }
   ],
   "source": [
    "News_df.head()"
   ]
  },
  {
   "cell_type": "code",
   "execution_count": 53,
   "metadata": {},
   "outputs": [],
   "source": [
    "#renameing the publish_date to date so it will help us during joining this dataset with bse_data dataset\n",
    "News_df.rename(columns={'publish_date': 'Date'}, inplace = True)"
   ]
  },
  {
   "cell_type": "code",
   "execution_count": 54,
   "metadata": {},
   "outputs": [
    {
     "data": {
      "text/html": [
       "<div>\n",
       "<style scoped>\n",
       "    .dataframe tbody tr th:only-of-type {\n",
       "        vertical-align: middle;\n",
       "    }\n",
       "\n",
       "    .dataframe tbody tr th {\n",
       "        vertical-align: top;\n",
       "    }\n",
       "\n",
       "    .dataframe thead th {\n",
       "        text-align: right;\n",
       "    }\n",
       "</style>\n",
       "<table border=\"1\" class=\"dataframe\">\n",
       "  <thead>\n",
       "    <tr style=\"text-align: right;\">\n",
       "      <th></th>\n",
       "      <th>Date</th>\n",
       "      <th>headline_text</th>\n",
       "      <th>polarity</th>\n",
       "      <th>subjectivity</th>\n",
       "    </tr>\n",
       "  </thead>\n",
       "  <tbody>\n",
       "    <tr>\n",
       "      <th>0</th>\n",
       "      <td>2001-01-02</td>\n",
       "      <td>Raju Chacha. A noisy effort to spruce up Comme...</td>\n",
       "      <td>0.193519</td>\n",
       "      <td>0.293056</td>\n",
       "    </tr>\n",
       "    <tr>\n",
       "      <th>1</th>\n",
       "      <td>2001-01-03</td>\n",
       "      <td>'Devdas': Jinxed?. 10-year-old girl missing. 3...</td>\n",
       "      <td>0.088462</td>\n",
       "      <td>0.407692</td>\n",
       "    </tr>\n",
       "    <tr>\n",
       "      <th>2</th>\n",
       "      <td>2001-01-04</td>\n",
       "      <td>Car dealers caught in Bihar sales tax ruling. ...</td>\n",
       "      <td>0.091426</td>\n",
       "      <td>0.481895</td>\n",
       "    </tr>\n",
       "    <tr>\n",
       "      <th>3</th>\n",
       "      <td>2001-01-05</td>\n",
       "      <td>Nepal won't allow anti-India activities: Envoy...</td>\n",
       "      <td>0.257415</td>\n",
       "      <td>0.465542</td>\n",
       "    </tr>\n",
       "    <tr>\n",
       "      <th>4</th>\n",
       "      <td>2001-01-06</td>\n",
       "      <td>Anti-immigration think-tank berates Clinton re...</td>\n",
       "      <td>0.219481</td>\n",
       "      <td>0.464935</td>\n",
       "    </tr>\n",
       "  </tbody>\n",
       "</table>\n",
       "</div>"
      ],
      "text/plain": [
       "        Date                                      headline_text  polarity  \\\n",
       "0 2001-01-02  Raju Chacha. A noisy effort to spruce up Comme...  0.193519   \n",
       "1 2001-01-03  'Devdas': Jinxed?. 10-year-old girl missing. 3...  0.088462   \n",
       "2 2001-01-04  Car dealers caught in Bihar sales tax ruling. ...  0.091426   \n",
       "3 2001-01-05  Nepal won't allow anti-India activities: Envoy...  0.257415   \n",
       "4 2001-01-06  Anti-immigration think-tank berates Clinton re...  0.219481   \n",
       "\n",
       "   subjectivity  \n",
       "0      0.293056  \n",
       "1      0.407692  \n",
       "2      0.481895  \n",
       "3      0.465542  \n",
       "4      0.464935  "
      ]
     },
     "execution_count": 54,
     "metadata": {},
     "output_type": "execute_result"
    }
   ],
   "source": [
    "News_df.head()"
   ]
  },
  {
   "cell_type": "code",
   "execution_count": 55,
   "metadata": {},
   "outputs": [],
   "source": [
    "#selecting required columns\n",
    "#News_df = News_df.filter(['Date', 'polarity', 'subjectivity'], axis=1)"
   ]
  },
  {
   "cell_type": "code",
   "execution_count": 56,
   "metadata": {},
   "outputs": [
    {
     "data": {
      "text/plain": [
       "0"
      ]
     },
     "execution_count": 56,
     "metadata": {},
     "output_type": "execute_result"
    }
   ],
   "source": [
    "News_df['Date'].duplicated().sum()"
   ]
  },
  {
   "cell_type": "code",
   "execution_count": 57,
   "metadata": {},
   "outputs": [
    {
     "data": {
      "text/html": [
       "<div>\n",
       "<style scoped>\n",
       "    .dataframe tbody tr th:only-of-type {\n",
       "        vertical-align: middle;\n",
       "    }\n",
       "\n",
       "    .dataframe tbody tr th {\n",
       "        vertical-align: top;\n",
       "    }\n",
       "\n",
       "    .dataframe thead th {\n",
       "        text-align: right;\n",
       "    }\n",
       "</style>\n",
       "<table border=\"1\" class=\"dataframe\">\n",
       "  <thead>\n",
       "    <tr style=\"text-align: right;\">\n",
       "      <th></th>\n",
       "      <th>Date</th>\n",
       "      <th>headline_text</th>\n",
       "      <th>polarity</th>\n",
       "      <th>subjectivity</th>\n",
       "    </tr>\n",
       "  </thead>\n",
       "  <tbody>\n",
       "    <tr>\n",
       "      <th>0</th>\n",
       "      <td>2001-01-02</td>\n",
       "      <td>Raju Chacha. A noisy effort to spruce up Comme...</td>\n",
       "      <td>0.193519</td>\n",
       "      <td>0.293056</td>\n",
       "    </tr>\n",
       "    <tr>\n",
       "      <th>1</th>\n",
       "      <td>2001-01-03</td>\n",
       "      <td>'Devdas': Jinxed?. 10-year-old girl missing. 3...</td>\n",
       "      <td>0.088462</td>\n",
       "      <td>0.407692</td>\n",
       "    </tr>\n",
       "    <tr>\n",
       "      <th>2</th>\n",
       "      <td>2001-01-04</td>\n",
       "      <td>Car dealers caught in Bihar sales tax ruling. ...</td>\n",
       "      <td>0.091426</td>\n",
       "      <td>0.481895</td>\n",
       "    </tr>\n",
       "    <tr>\n",
       "      <th>3</th>\n",
       "      <td>2001-01-05</td>\n",
       "      <td>Nepal won't allow anti-India activities: Envoy...</td>\n",
       "      <td>0.257415</td>\n",
       "      <td>0.465542</td>\n",
       "    </tr>\n",
       "    <tr>\n",
       "      <th>4</th>\n",
       "      <td>2001-01-06</td>\n",
       "      <td>Anti-immigration think-tank berates Clinton re...</td>\n",
       "      <td>0.219481</td>\n",
       "      <td>0.464935</td>\n",
       "    </tr>\n",
       "  </tbody>\n",
       "</table>\n",
       "</div>"
      ],
      "text/plain": [
       "        Date                                      headline_text  polarity  \\\n",
       "0 2001-01-02  Raju Chacha. A noisy effort to spruce up Comme...  0.193519   \n",
       "1 2001-01-03  'Devdas': Jinxed?. 10-year-old girl missing. 3...  0.088462   \n",
       "2 2001-01-04  Car dealers caught in Bihar sales tax ruling. ...  0.091426   \n",
       "3 2001-01-05  Nepal won't allow anti-India activities: Envoy...  0.257415   \n",
       "4 2001-01-06  Anti-immigration think-tank berates Clinton re...  0.219481   \n",
       "\n",
       "   subjectivity  \n",
       "0      0.293056  \n",
       "1      0.407692  \n",
       "2      0.481895  \n",
       "3      0.465542  \n",
       "4      0.464935  "
      ]
     },
     "execution_count": 57,
     "metadata": {},
     "output_type": "execute_result"
    }
   ],
   "source": [
    "News_df.head()"
   ]
  },
  {
   "cell_type": "code",
   "execution_count": 58,
   "metadata": {},
   "outputs": [
    {
     "data": {
      "text/plain": [
       "(7717, 4)"
      ]
     },
     "execution_count": 58,
     "metadata": {},
     "output_type": "execute_result"
    }
   ],
   "source": [
    "News_df.shape"
   ]
  },
  {
   "cell_type": "code",
   "execution_count": 59,
   "metadata": {},
   "outputs": [
    {
     "data": {
      "text/plain": [
       "(5234, 7)"
      ]
     },
     "execution_count": 59,
     "metadata": {},
     "output_type": "execute_result"
    }
   ],
   "source": [
    "BSE_df.shape"
   ]
  },
  {
   "cell_type": "code",
   "execution_count": 60,
   "metadata": {},
   "outputs": [
    {
     "data": {
      "text/plain": [
       "0"
      ]
     },
     "execution_count": 60,
     "metadata": {},
     "output_type": "execute_result"
    }
   ],
   "source": [
    "BSE_df['Date'].duplicated().sum()"
   ]
  },
  {
   "cell_type": "code",
   "execution_count": 61,
   "metadata": {},
   "outputs": [
    {
     "data": {
      "text/html": [
       "<div>\n",
       "<style scoped>\n",
       "    .dataframe tbody tr th:only-of-type {\n",
       "        vertical-align: middle;\n",
       "    }\n",
       "\n",
       "    .dataframe tbody tr th {\n",
       "        vertical-align: top;\n",
       "    }\n",
       "\n",
       "    .dataframe thead th {\n",
       "        text-align: right;\n",
       "    }\n",
       "</style>\n",
       "<table border=\"1\" class=\"dataframe\">\n",
       "  <thead>\n",
       "    <tr style=\"text-align: right;\">\n",
       "      <th></th>\n",
       "      <th>Date</th>\n",
       "      <th>headline_text</th>\n",
       "      <th>polarity</th>\n",
       "      <th>subjectivity</th>\n",
       "      <th>Compound</th>\n",
       "      <th>Negative</th>\n",
       "      <th>Neutral</th>\n",
       "      <th>Positive</th>\n",
       "    </tr>\n",
       "  </thead>\n",
       "  <tbody>\n",
       "    <tr>\n",
       "      <th>0</th>\n",
       "      <td>2001-01-02</td>\n",
       "      <td>Raju Chacha. A noisy effort to spruce up Comme...</td>\n",
       "      <td>0.193519</td>\n",
       "      <td>0.293056</td>\n",
       "      <td>-0.9145</td>\n",
       "      <td>0.132</td>\n",
       "      <td>0.779</td>\n",
       "      <td>0.089</td>\n",
       "    </tr>\n",
       "    <tr>\n",
       "      <th>1</th>\n",
       "      <td>2001-01-03</td>\n",
       "      <td>'Devdas': Jinxed?. 10-year-old girl missing. 3...</td>\n",
       "      <td>0.088462</td>\n",
       "      <td>0.407692</td>\n",
       "      <td>-0.2640</td>\n",
       "      <td>0.122</td>\n",
       "      <td>0.766</td>\n",
       "      <td>0.111</td>\n",
       "    </tr>\n",
       "    <tr>\n",
       "      <th>2</th>\n",
       "      <td>2001-01-04</td>\n",
       "      <td>Car dealers caught in Bihar sales tax ruling. ...</td>\n",
       "      <td>0.091426</td>\n",
       "      <td>0.481895</td>\n",
       "      <td>0.8548</td>\n",
       "      <td>0.096</td>\n",
       "      <td>0.802</td>\n",
       "      <td>0.102</td>\n",
       "    </tr>\n",
       "    <tr>\n",
       "      <th>3</th>\n",
       "      <td>2001-01-05</td>\n",
       "      <td>Nepal won't allow anti-India activities: Envoy...</td>\n",
       "      <td>0.257415</td>\n",
       "      <td>0.465542</td>\n",
       "      <td>0.4935</td>\n",
       "      <td>0.145</td>\n",
       "      <td>0.691</td>\n",
       "      <td>0.164</td>\n",
       "    </tr>\n",
       "    <tr>\n",
       "      <th>4</th>\n",
       "      <td>2001-01-06</td>\n",
       "      <td>Anti-immigration think-tank berates Clinton re...</td>\n",
       "      <td>0.219481</td>\n",
       "      <td>0.464935</td>\n",
       "      <td>-0.5574</td>\n",
       "      <td>0.165</td>\n",
       "      <td>0.702</td>\n",
       "      <td>0.133</td>\n",
       "    </tr>\n",
       "    <tr>\n",
       "      <th>...</th>\n",
       "      <td>...</td>\n",
       "      <td>...</td>\n",
       "      <td>...</td>\n",
       "      <td>...</td>\n",
       "      <td>...</td>\n",
       "      <td>...</td>\n",
       "      <td>...</td>\n",
       "      <td>...</td>\n",
       "    </tr>\n",
       "    <tr>\n",
       "      <th>7712</th>\n",
       "      <td>2022-03-27</td>\n",
       "      <td>F1 2022: Sergio Perez grabs pole position at S...</td>\n",
       "      <td>0.026188</td>\n",
       "      <td>0.371042</td>\n",
       "      <td>-0.9999</td>\n",
       "      <td>0.130</td>\n",
       "      <td>0.802</td>\n",
       "      <td>0.069</td>\n",
       "    </tr>\n",
       "    <tr>\n",
       "      <th>7713</th>\n",
       "      <td>2022-03-28</td>\n",
       "      <td>Adani Total forays into electric mobility infr...</td>\n",
       "      <td>0.055232</td>\n",
       "      <td>0.389939</td>\n",
       "      <td>-0.9998</td>\n",
       "      <td>0.145</td>\n",
       "      <td>0.758</td>\n",
       "      <td>0.097</td>\n",
       "    </tr>\n",
       "    <tr>\n",
       "      <th>7714</th>\n",
       "      <td>2022-03-29</td>\n",
       "      <td>'ONGC sells Russia's Sokol oil to Indian refin...</td>\n",
       "      <td>0.095037</td>\n",
       "      <td>0.404044</td>\n",
       "      <td>-0.9999</td>\n",
       "      <td>0.139</td>\n",
       "      <td>0.782</td>\n",
       "      <td>0.079</td>\n",
       "    </tr>\n",
       "    <tr>\n",
       "      <th>7715</th>\n",
       "      <td>2022-03-30</td>\n",
       "      <td>8 days; 7 hikes: Petrol crosses Rs 100/L mark....</td>\n",
       "      <td>0.037729</td>\n",
       "      <td>0.350965</td>\n",
       "      <td>-0.9998</td>\n",
       "      <td>0.124</td>\n",
       "      <td>0.812</td>\n",
       "      <td>0.065</td>\n",
       "    </tr>\n",
       "    <tr>\n",
       "      <th>7716</th>\n",
       "      <td>2022-03-31</td>\n",
       "      <td>$50 million fund for Apple's supplier employee...</td>\n",
       "      <td>0.023654</td>\n",
       "      <td>0.338593</td>\n",
       "      <td>-0.9999</td>\n",
       "      <td>0.141</td>\n",
       "      <td>0.793</td>\n",
       "      <td>0.066</td>\n",
       "    </tr>\n",
       "  </tbody>\n",
       "</table>\n",
       "<p>7717 rows × 8 columns</p>\n",
       "</div>"
      ],
      "text/plain": [
       "           Date                                      headline_text  polarity  \\\n",
       "0    2001-01-02  Raju Chacha. A noisy effort to spruce up Comme...  0.193519   \n",
       "1    2001-01-03  'Devdas': Jinxed?. 10-year-old girl missing. 3...  0.088462   \n",
       "2    2001-01-04  Car dealers caught in Bihar sales tax ruling. ...  0.091426   \n",
       "3    2001-01-05  Nepal won't allow anti-India activities: Envoy...  0.257415   \n",
       "4    2001-01-06  Anti-immigration think-tank berates Clinton re...  0.219481   \n",
       "...         ...                                                ...       ...   \n",
       "7712 2022-03-27  F1 2022: Sergio Perez grabs pole position at S...  0.026188   \n",
       "7713 2022-03-28  Adani Total forays into electric mobility infr...  0.055232   \n",
       "7714 2022-03-29  'ONGC sells Russia's Sokol oil to Indian refin...  0.095037   \n",
       "7715 2022-03-30  8 days; 7 hikes: Petrol crosses Rs 100/L mark....  0.037729   \n",
       "7716 2022-03-31  $50 million fund for Apple's supplier employee...  0.023654   \n",
       "\n",
       "      subjectivity  Compound  Negative  Neutral  Positive  \n",
       "0         0.293056   -0.9145     0.132    0.779     0.089  \n",
       "1         0.407692   -0.2640     0.122    0.766     0.111  \n",
       "2         0.481895    0.8548     0.096    0.802     0.102  \n",
       "3         0.465542    0.4935     0.145    0.691     0.164  \n",
       "4         0.464935   -0.5574     0.165    0.702     0.133  \n",
       "...            ...       ...       ...      ...       ...  \n",
       "7712      0.371042   -0.9999     0.130    0.802     0.069  \n",
       "7713      0.389939   -0.9998     0.145    0.758     0.097  \n",
       "7714      0.404044   -0.9999     0.139    0.782     0.079  \n",
       "7715      0.350965   -0.9998     0.124    0.812     0.065  \n",
       "7716      0.338593   -0.9999     0.141    0.793     0.066  \n",
       "\n",
       "[7717 rows x 8 columns]"
      ]
     },
     "execution_count": 61,
     "metadata": {},
     "output_type": "execute_result"
    }
   ],
   "source": [
    "# Add Sentiment Score to News_df\n",
    "SIA = SentimentIntensityAnalyzer()\n",
    "\n",
    "News_df['Compound'] = [SIA.polarity_scores(v)['compound'] for v in News_df['headline_text']]\n",
    "News_df['Negative'] = [SIA.polarity_scores(v)['neg'] for v in News_df['headline_text']]\n",
    "News_df['Neutral'] = [SIA.polarity_scores(v)['neu'] for v in News_df['headline_text']]\n",
    "News_df['Positive'] = [SIA.polarity_scores(v)['pos'] for v in News_df['headline_text']]\n",
    "News_df"
   ]
  },
  {
   "cell_type": "code",
   "execution_count": 62,
   "metadata": {},
   "outputs": [],
   "source": [
    "BSE_df = pd.merge(BSE_df, News_df, how='left', on=['Date'])"
   ]
  },
  {
   "cell_type": "code",
   "execution_count": 63,
   "metadata": {},
   "outputs": [
    {
     "data": {
      "text/html": [
       "<div>\n",
       "<style scoped>\n",
       "    .dataframe tbody tr th:only-of-type {\n",
       "        vertical-align: middle;\n",
       "    }\n",
       "\n",
       "    .dataframe tbody tr th {\n",
       "        vertical-align: top;\n",
       "    }\n",
       "\n",
       "    .dataframe thead th {\n",
       "        text-align: right;\n",
       "    }\n",
       "</style>\n",
       "<table border=\"1\" class=\"dataframe\">\n",
       "  <thead>\n",
       "    <tr style=\"text-align: right;\">\n",
       "      <th></th>\n",
       "      <th>Date</th>\n",
       "      <th>open</th>\n",
       "      <th>high</th>\n",
       "      <th>low</th>\n",
       "      <th>close</th>\n",
       "      <th>adjclose</th>\n",
       "      <th>volume</th>\n",
       "      <th>headline_text</th>\n",
       "      <th>polarity</th>\n",
       "      <th>subjectivity</th>\n",
       "      <th>Compound</th>\n",
       "      <th>Negative</th>\n",
       "      <th>Neutral</th>\n",
       "      <th>Positive</th>\n",
       "    </tr>\n",
       "  </thead>\n",
       "  <tbody>\n",
       "    <tr>\n",
       "      <th>0</th>\n",
       "      <td>2001-01-02</td>\n",
       "      <td>3953.219971</td>\n",
       "      <td>4028.570068</td>\n",
       "      <td>3929.370117</td>\n",
       "      <td>4018.879883</td>\n",
       "      <td>4018.879883</td>\n",
       "      <td>0</td>\n",
       "      <td>Raju Chacha. A noisy effort to spruce up Comme...</td>\n",
       "      <td>0.193519</td>\n",
       "      <td>0.293056</td>\n",
       "      <td>-0.9145</td>\n",
       "      <td>0.132</td>\n",
       "      <td>0.779</td>\n",
       "      <td>0.089</td>\n",
       "    </tr>\n",
       "    <tr>\n",
       "      <th>1</th>\n",
       "      <td>2001-01-03</td>\n",
       "      <td>3977.580078</td>\n",
       "      <td>4067.659912</td>\n",
       "      <td>3977.580078</td>\n",
       "      <td>4060.020020</td>\n",
       "      <td>4060.020020</td>\n",
       "      <td>0</td>\n",
       "      <td>'Devdas': Jinxed?. 10-year-old girl missing. 3...</td>\n",
       "      <td>0.088462</td>\n",
       "      <td>0.407692</td>\n",
       "      <td>-0.2640</td>\n",
       "      <td>0.122</td>\n",
       "      <td>0.766</td>\n",
       "      <td>0.111</td>\n",
       "    </tr>\n",
       "    <tr>\n",
       "      <th>2</th>\n",
       "      <td>2001-01-04</td>\n",
       "      <td>4180.970215</td>\n",
       "      <td>4180.970215</td>\n",
       "      <td>4109.549805</td>\n",
       "      <td>4115.370117</td>\n",
       "      <td>4115.370117</td>\n",
       "      <td>0</td>\n",
       "      <td>Car dealers caught in Bihar sales tax ruling. ...</td>\n",
       "      <td>0.091426</td>\n",
       "      <td>0.481895</td>\n",
       "      <td>0.8548</td>\n",
       "      <td>0.096</td>\n",
       "      <td>0.802</td>\n",
       "      <td>0.102</td>\n",
       "    </tr>\n",
       "    <tr>\n",
       "      <th>3</th>\n",
       "      <td>2001-01-05</td>\n",
       "      <td>4116.339844</td>\n",
       "      <td>4195.009766</td>\n",
       "      <td>4115.350098</td>\n",
       "      <td>4183.729980</td>\n",
       "      <td>4183.729980</td>\n",
       "      <td>0</td>\n",
       "      <td>Nepal won't allow anti-India activities: Envoy...</td>\n",
       "      <td>0.257415</td>\n",
       "      <td>0.465542</td>\n",
       "      <td>0.4935</td>\n",
       "      <td>0.145</td>\n",
       "      <td>0.691</td>\n",
       "      <td>0.164</td>\n",
       "    </tr>\n",
       "    <tr>\n",
       "      <th>4</th>\n",
       "      <td>2001-01-08</td>\n",
       "      <td>4164.759766</td>\n",
       "      <td>4206.720215</td>\n",
       "      <td>4101.529785</td>\n",
       "      <td>4120.430176</td>\n",
       "      <td>4120.430176</td>\n",
       "      <td>0</td>\n",
       "      <td>42 units to be sealed in phase-II of operation...</td>\n",
       "      <td>0.016234</td>\n",
       "      <td>0.436176</td>\n",
       "      <td>-0.8934</td>\n",
       "      <td>0.118</td>\n",
       "      <td>0.802</td>\n",
       "      <td>0.080</td>\n",
       "    </tr>\n",
       "  </tbody>\n",
       "</table>\n",
       "</div>"
      ],
      "text/plain": [
       "        Date         open         high          low        close     adjclose  \\\n",
       "0 2001-01-02  3953.219971  4028.570068  3929.370117  4018.879883  4018.879883   \n",
       "1 2001-01-03  3977.580078  4067.659912  3977.580078  4060.020020  4060.020020   \n",
       "2 2001-01-04  4180.970215  4180.970215  4109.549805  4115.370117  4115.370117   \n",
       "3 2001-01-05  4116.339844  4195.009766  4115.350098  4183.729980  4183.729980   \n",
       "4 2001-01-08  4164.759766  4206.720215  4101.529785  4120.430176  4120.430176   \n",
       "\n",
       "   volume                                      headline_text  polarity  \\\n",
       "0       0  Raju Chacha. A noisy effort to spruce up Comme...  0.193519   \n",
       "1       0  'Devdas': Jinxed?. 10-year-old girl missing. 3...  0.088462   \n",
       "2       0  Car dealers caught in Bihar sales tax ruling. ...  0.091426   \n",
       "3       0  Nepal won't allow anti-India activities: Envoy...  0.257415   \n",
       "4       0  42 units to be sealed in phase-II of operation...  0.016234   \n",
       "\n",
       "   subjectivity  Compound  Negative  Neutral  Positive  \n",
       "0      0.293056   -0.9145     0.132    0.779     0.089  \n",
       "1      0.407692   -0.2640     0.122    0.766     0.111  \n",
       "2      0.481895    0.8548     0.096    0.802     0.102  \n",
       "3      0.465542    0.4935     0.145    0.691     0.164  \n",
       "4      0.436176   -0.8934     0.118    0.802     0.080  "
      ]
     },
     "execution_count": 63,
     "metadata": {},
     "output_type": "execute_result"
    }
   ],
   "source": [
    "BSE_df.head()"
   ]
  },
  {
   "cell_type": "code",
   "execution_count": 64,
   "metadata": {},
   "outputs": [
    {
     "data": {
      "text/html": [
       "<div>\n",
       "<style scoped>\n",
       "    .dataframe tbody tr th:only-of-type {\n",
       "        vertical-align: middle;\n",
       "    }\n",
       "\n",
       "    .dataframe tbody tr th {\n",
       "        vertical-align: top;\n",
       "    }\n",
       "\n",
       "    .dataframe thead th {\n",
       "        text-align: right;\n",
       "    }\n",
       "</style>\n",
       "<table border=\"1\" class=\"dataframe\">\n",
       "  <thead>\n",
       "    <tr style=\"text-align: right;\">\n",
       "      <th></th>\n",
       "      <th>Date</th>\n",
       "      <th>open</th>\n",
       "      <th>high</th>\n",
       "      <th>low</th>\n",
       "      <th>close</th>\n",
       "      <th>adjclose</th>\n",
       "      <th>volume</th>\n",
       "      <th>headline_text</th>\n",
       "      <th>polarity</th>\n",
       "      <th>subjectivity</th>\n",
       "      <th>Compound</th>\n",
       "      <th>Negative</th>\n",
       "      <th>Neutral</th>\n",
       "      <th>Positive</th>\n",
       "    </tr>\n",
       "  </thead>\n",
       "  <tbody>\n",
       "    <tr>\n",
       "      <th>5229</th>\n",
       "      <td>2022-03-24</td>\n",
       "      <td>57190.050781</td>\n",
       "      <td>57827.988281</td>\n",
       "      <td>57138.511719</td>\n",
       "      <td>57595.679688</td>\n",
       "      <td>57595.679688</td>\n",
       "      <td>51400</td>\n",
       "      <td>Exicom completes installation of 5;000 EV char...</td>\n",
       "      <td>0.042891</td>\n",
       "      <td>0.364423</td>\n",
       "      <td>-0.9999</td>\n",
       "      <td>0.157</td>\n",
       "      <td>0.767</td>\n",
       "      <td>0.076</td>\n",
       "    </tr>\n",
       "    <tr>\n",
       "      <th>5230</th>\n",
       "      <td>2022-03-25</td>\n",
       "      <td>57801.718750</td>\n",
       "      <td>57845.371094</td>\n",
       "      <td>57100.238281</td>\n",
       "      <td>57362.199219</td>\n",
       "      <td>57362.199219</td>\n",
       "      <td>6900</td>\n",
       "      <td>Okinawa expects to sell 50;000 units of newly-...</td>\n",
       "      <td>-0.011677</td>\n",
       "      <td>0.373186</td>\n",
       "      <td>-1.0000</td>\n",
       "      <td>0.166</td>\n",
       "      <td>0.769</td>\n",
       "      <td>0.065</td>\n",
       "    </tr>\n",
       "    <tr>\n",
       "      <th>5231</th>\n",
       "      <td>2022-03-28</td>\n",
       "      <td>57472.718750</td>\n",
       "      <td>57638.339844</td>\n",
       "      <td>56825.089844</td>\n",
       "      <td>57593.488281</td>\n",
       "      <td>57593.488281</td>\n",
       "      <td>6300</td>\n",
       "      <td>Adani Total forays into electric mobility infr...</td>\n",
       "      <td>0.055232</td>\n",
       "      <td>0.389939</td>\n",
       "      <td>-0.9998</td>\n",
       "      <td>0.145</td>\n",
       "      <td>0.758</td>\n",
       "      <td>0.097</td>\n",
       "    </tr>\n",
       "    <tr>\n",
       "      <th>5232</th>\n",
       "      <td>2022-03-29</td>\n",
       "      <td>57814.761719</td>\n",
       "      <td>58001.531250</td>\n",
       "      <td>57639.351562</td>\n",
       "      <td>57943.648438</td>\n",
       "      <td>57943.648438</td>\n",
       "      <td>12100</td>\n",
       "      <td>'ONGC sells Russia's Sokol oil to Indian refin...</td>\n",
       "      <td>0.095037</td>\n",
       "      <td>0.404044</td>\n",
       "      <td>-0.9999</td>\n",
       "      <td>0.139</td>\n",
       "      <td>0.782</td>\n",
       "      <td>0.079</td>\n",
       "    </tr>\n",
       "    <tr>\n",
       "      <th>5233</th>\n",
       "      <td>2022-03-30</td>\n",
       "      <td>58362.851562</td>\n",
       "      <td>58727.781250</td>\n",
       "      <td>58176.000000</td>\n",
       "      <td>58683.988281</td>\n",
       "      <td>58683.988281</td>\n",
       "      <td>6300</td>\n",
       "      <td>8 days; 7 hikes: Petrol crosses Rs 100/L mark....</td>\n",
       "      <td>0.037729</td>\n",
       "      <td>0.350965</td>\n",
       "      <td>-0.9998</td>\n",
       "      <td>0.124</td>\n",
       "      <td>0.812</td>\n",
       "      <td>0.065</td>\n",
       "    </tr>\n",
       "  </tbody>\n",
       "</table>\n",
       "</div>"
      ],
      "text/plain": [
       "           Date          open          high           low         close  \\\n",
       "5229 2022-03-24  57190.050781  57827.988281  57138.511719  57595.679688   \n",
       "5230 2022-03-25  57801.718750  57845.371094  57100.238281  57362.199219   \n",
       "5231 2022-03-28  57472.718750  57638.339844  56825.089844  57593.488281   \n",
       "5232 2022-03-29  57814.761719  58001.531250  57639.351562  57943.648438   \n",
       "5233 2022-03-30  58362.851562  58727.781250  58176.000000  58683.988281   \n",
       "\n",
       "          adjclose  volume                                      headline_text  \\\n",
       "5229  57595.679688   51400  Exicom completes installation of 5;000 EV char...   \n",
       "5230  57362.199219    6900  Okinawa expects to sell 50;000 units of newly-...   \n",
       "5231  57593.488281    6300  Adani Total forays into electric mobility infr...   \n",
       "5232  57943.648438   12100  'ONGC sells Russia's Sokol oil to Indian refin...   \n",
       "5233  58683.988281    6300  8 days; 7 hikes: Petrol crosses Rs 100/L mark....   \n",
       "\n",
       "      polarity  subjectivity  Compound  Negative  Neutral  Positive  \n",
       "5229  0.042891      0.364423   -0.9999     0.157    0.767     0.076  \n",
       "5230 -0.011677      0.373186   -1.0000     0.166    0.769     0.065  \n",
       "5231  0.055232      0.389939   -0.9998     0.145    0.758     0.097  \n",
       "5232  0.095037      0.404044   -0.9999     0.139    0.782     0.079  \n",
       "5233  0.037729      0.350965   -0.9998     0.124    0.812     0.065  "
      ]
     },
     "execution_count": 64,
     "metadata": {},
     "output_type": "execute_result"
    }
   ],
   "source": [
    "BSE_df.tail()"
   ]
  },
  {
   "cell_type": "code",
   "execution_count": 65,
   "metadata": {},
   "outputs": [
    {
     "data": {
      "text/plain": [
       "203"
      ]
     },
     "execution_count": 65,
     "metadata": {},
     "output_type": "execute_result"
    }
   ],
   "source": [
    "BSE_df.isnull().sum().sum()"
   ]
  },
  {
   "cell_type": "code",
   "execution_count": 66,
   "metadata": {},
   "outputs": [
    {
     "data": {
      "text/html": [
       "<div>\n",
       "<style scoped>\n",
       "    .dataframe tbody tr th:only-of-type {\n",
       "        vertical-align: middle;\n",
       "    }\n",
       "\n",
       "    .dataframe tbody tr th {\n",
       "        vertical-align: top;\n",
       "    }\n",
       "\n",
       "    .dataframe thead th {\n",
       "        text-align: right;\n",
       "    }\n",
       "</style>\n",
       "<table border=\"1\" class=\"dataframe\">\n",
       "  <thead>\n",
       "    <tr style=\"text-align: right;\">\n",
       "      <th></th>\n",
       "      <th>close</th>\n",
       "      <th>subjectivity</th>\n",
       "      <th>polarity</th>\n",
       "      <th>Compound</th>\n",
       "      <th>Negative</th>\n",
       "      <th>Neutral</th>\n",
       "      <th>Positive</th>\n",
       "    </tr>\n",
       "  </thead>\n",
       "  <tbody>\n",
       "    <tr>\n",
       "      <th>0</th>\n",
       "      <td>4018.879883</td>\n",
       "      <td>0.293056</td>\n",
       "      <td>0.193519</td>\n",
       "      <td>-0.9145</td>\n",
       "      <td>0.132</td>\n",
       "      <td>0.779</td>\n",
       "      <td>0.089</td>\n",
       "    </tr>\n",
       "    <tr>\n",
       "      <th>1</th>\n",
       "      <td>4060.020020</td>\n",
       "      <td>0.407692</td>\n",
       "      <td>0.088462</td>\n",
       "      <td>-0.2640</td>\n",
       "      <td>0.122</td>\n",
       "      <td>0.766</td>\n",
       "      <td>0.111</td>\n",
       "    </tr>\n",
       "    <tr>\n",
       "      <th>2</th>\n",
       "      <td>4115.370117</td>\n",
       "      <td>0.481895</td>\n",
       "      <td>0.091426</td>\n",
       "      <td>0.8548</td>\n",
       "      <td>0.096</td>\n",
       "      <td>0.802</td>\n",
       "      <td>0.102</td>\n",
       "    </tr>\n",
       "    <tr>\n",
       "      <th>3</th>\n",
       "      <td>4183.729980</td>\n",
       "      <td>0.465542</td>\n",
       "      <td>0.257415</td>\n",
       "      <td>0.4935</td>\n",
       "      <td>0.145</td>\n",
       "      <td>0.691</td>\n",
       "      <td>0.164</td>\n",
       "    </tr>\n",
       "    <tr>\n",
       "      <th>4</th>\n",
       "      <td>4120.430176</td>\n",
       "      <td>0.436176</td>\n",
       "      <td>0.016234</td>\n",
       "      <td>-0.8934</td>\n",
       "      <td>0.118</td>\n",
       "      <td>0.802</td>\n",
       "      <td>0.080</td>\n",
       "    </tr>\n",
       "    <tr>\n",
       "      <th>...</th>\n",
       "      <td>...</td>\n",
       "      <td>...</td>\n",
       "      <td>...</td>\n",
       "      <td>...</td>\n",
       "      <td>...</td>\n",
       "      <td>...</td>\n",
       "      <td>...</td>\n",
       "    </tr>\n",
       "    <tr>\n",
       "      <th>5229</th>\n",
       "      <td>57595.679688</td>\n",
       "      <td>0.364423</td>\n",
       "      <td>0.042891</td>\n",
       "      <td>-0.9999</td>\n",
       "      <td>0.157</td>\n",
       "      <td>0.767</td>\n",
       "      <td>0.076</td>\n",
       "    </tr>\n",
       "    <tr>\n",
       "      <th>5230</th>\n",
       "      <td>57362.199219</td>\n",
       "      <td>0.373186</td>\n",
       "      <td>-0.011677</td>\n",
       "      <td>-1.0000</td>\n",
       "      <td>0.166</td>\n",
       "      <td>0.769</td>\n",
       "      <td>0.065</td>\n",
       "    </tr>\n",
       "    <tr>\n",
       "      <th>5231</th>\n",
       "      <td>57593.488281</td>\n",
       "      <td>0.389939</td>\n",
       "      <td>0.055232</td>\n",
       "      <td>-0.9998</td>\n",
       "      <td>0.145</td>\n",
       "      <td>0.758</td>\n",
       "      <td>0.097</td>\n",
       "    </tr>\n",
       "    <tr>\n",
       "      <th>5232</th>\n",
       "      <td>57943.648438</td>\n",
       "      <td>0.404044</td>\n",
       "      <td>0.095037</td>\n",
       "      <td>-0.9999</td>\n",
       "      <td>0.139</td>\n",
       "      <td>0.782</td>\n",
       "      <td>0.079</td>\n",
       "    </tr>\n",
       "    <tr>\n",
       "      <th>5233</th>\n",
       "      <td>58683.988281</td>\n",
       "      <td>0.350965</td>\n",
       "      <td>0.037729</td>\n",
       "      <td>-0.9998</td>\n",
       "      <td>0.124</td>\n",
       "      <td>0.812</td>\n",
       "      <td>0.065</td>\n",
       "    </tr>\n",
       "  </tbody>\n",
       "</table>\n",
       "<p>5234 rows × 7 columns</p>\n",
       "</div>"
      ],
      "text/plain": [
       "             close  subjectivity  polarity  Compound  Negative  Neutral  \\\n",
       "0      4018.879883      0.293056  0.193519   -0.9145     0.132    0.779   \n",
       "1      4060.020020      0.407692  0.088462   -0.2640     0.122    0.766   \n",
       "2      4115.370117      0.481895  0.091426    0.8548     0.096    0.802   \n",
       "3      4183.729980      0.465542  0.257415    0.4935     0.145    0.691   \n",
       "4      4120.430176      0.436176  0.016234   -0.8934     0.118    0.802   \n",
       "...            ...           ...       ...       ...       ...      ...   \n",
       "5229  57595.679688      0.364423  0.042891   -0.9999     0.157    0.767   \n",
       "5230  57362.199219      0.373186 -0.011677   -1.0000     0.166    0.769   \n",
       "5231  57593.488281      0.389939  0.055232   -0.9998     0.145    0.758   \n",
       "5232  57943.648438      0.404044  0.095037   -0.9999     0.139    0.782   \n",
       "5233  58683.988281      0.350965  0.037729   -0.9998     0.124    0.812   \n",
       "\n",
       "      Positive  \n",
       "0        0.089  \n",
       "1        0.111  \n",
       "2        0.102  \n",
       "3        0.164  \n",
       "4        0.080  \n",
       "...        ...  \n",
       "5229     0.076  \n",
       "5230     0.065  \n",
       "5231     0.097  \n",
       "5232     0.079  \n",
       "5233     0.065  \n",
       "\n",
       "[5234 rows x 7 columns]"
      ]
     },
     "execution_count": 66,
     "metadata": {},
     "output_type": "execute_result"
    }
   ],
   "source": [
    "New_df = BSE_df[['close','subjectivity', 'polarity', 'Compound', 'Negative', 'Neutral' ,'Positive']]\n",
    "New_df"
   ]
  },
  {
   "cell_type": "markdown",
   "metadata": {},
   "source": [
    "## Machine Learning"
   ]
  },
  {
   "cell_type": "markdown",
   "metadata": {},
   "source": [
    "### MIN-MAX SCALER"
   ]
  },
  {
   "cell_type": "code",
   "execution_count": 67,
   "metadata": {},
   "outputs": [
    {
     "data": {
      "text/html": [
       "<div>\n",
       "<style scoped>\n",
       "    .dataframe tbody tr th:only-of-type {\n",
       "        vertical-align: middle;\n",
       "    }\n",
       "\n",
       "    .dataframe tbody tr th {\n",
       "        vertical-align: top;\n",
       "    }\n",
       "\n",
       "    .dataframe thead th {\n",
       "        text-align: right;\n",
       "    }\n",
       "</style>\n",
       "<table border=\"1\" class=\"dataframe\">\n",
       "  <thead>\n",
       "    <tr style=\"text-align: right;\">\n",
       "      <th></th>\n",
       "      <th>close</th>\n",
       "      <th>subjectivity</th>\n",
       "      <th>polarity</th>\n",
       "      <th>Compound</th>\n",
       "      <th>Negative</th>\n",
       "      <th>Neutral</th>\n",
       "      <th>Positive</th>\n",
       "    </tr>\n",
       "  </thead>\n",
       "  <tbody>\n",
       "    <tr>\n",
       "      <th>0</th>\n",
       "      <td>0.023980</td>\n",
       "      <td>0.293056</td>\n",
       "      <td>0.582071</td>\n",
       "      <td>0.04275</td>\n",
       "      <td>0.297297</td>\n",
       "      <td>0.779</td>\n",
       "      <td>0.146382</td>\n",
       "    </tr>\n",
       "    <tr>\n",
       "      <th>1</th>\n",
       "      <td>0.024675</td>\n",
       "      <td>0.407692</td>\n",
       "      <td>0.438811</td>\n",
       "      <td>0.36800</td>\n",
       "      <td>0.274775</td>\n",
       "      <td>0.766</td>\n",
       "      <td>0.182566</td>\n",
       "    </tr>\n",
       "    <tr>\n",
       "      <th>2</th>\n",
       "      <td>0.025610</td>\n",
       "      <td>0.481895</td>\n",
       "      <td>0.442853</td>\n",
       "      <td>0.92740</td>\n",
       "      <td>0.216216</td>\n",
       "      <td>0.802</td>\n",
       "      <td>0.167763</td>\n",
       "    </tr>\n",
       "    <tr>\n",
       "      <th>3</th>\n",
       "      <td>0.026766</td>\n",
       "      <td>0.465542</td>\n",
       "      <td>0.669202</td>\n",
       "      <td>0.74675</td>\n",
       "      <td>0.326577</td>\n",
       "      <td>0.691</td>\n",
       "      <td>0.269737</td>\n",
       "    </tr>\n",
       "    <tr>\n",
       "      <th>4</th>\n",
       "      <td>0.025696</td>\n",
       "      <td>0.436176</td>\n",
       "      <td>0.340319</td>\n",
       "      <td>0.05330</td>\n",
       "      <td>0.265766</td>\n",
       "      <td>0.802</td>\n",
       "      <td>0.131579</td>\n",
       "    </tr>\n",
       "  </tbody>\n",
       "</table>\n",
       "</div>"
      ],
      "text/plain": [
       "      close  subjectivity  polarity  Compound  Negative  Neutral  Positive\n",
       "0  0.023980      0.293056  0.582071   0.04275  0.297297    0.779  0.146382\n",
       "1  0.024675      0.407692  0.438811   0.36800  0.274775    0.766  0.182566\n",
       "2  0.025610      0.481895  0.442853   0.92740  0.216216    0.802  0.167763\n",
       "3  0.026766      0.465542  0.669202   0.74675  0.326577    0.691  0.269737\n",
       "4  0.025696      0.436176  0.340319   0.05330  0.265766    0.802  0.131579"
      ]
     },
     "execution_count": 67,
     "metadata": {},
     "output_type": "execute_result"
    }
   ],
   "source": [
    "from sklearn.preprocessing import MinMaxScaler\n",
    "scaler = MinMaxScaler()\n",
    "\n",
    "New2_df = pd.DataFrame(scaler.fit_transform(New_df))\n",
    "New2_df.columns = New_df.columns\n",
    "New2_df.index = New_df.index\n",
    "New2_df.head()"
   ]
  },
  {
   "cell_type": "code",
   "execution_count": 76,
   "metadata": {},
   "outputs": [
    {
     "data": {
      "text/plain": [
       "close            0\n",
       "subjectivity    29\n",
       "polarity        29\n",
       "Compound        29\n",
       "Negative        29\n",
       "Neutral         29\n",
       "Positive        29\n",
       "dtype: int64"
      ]
     },
     "execution_count": 76,
     "metadata": {},
     "output_type": "execute_result"
    }
   ],
   "source": [
    "New2_df.isnull().sum()"
   ]
  },
  {
   "cell_type": "code",
   "execution_count": 77,
   "metadata": {},
   "outputs": [],
   "source": [
    "New2_df.dropna(inplace=True)"
   ]
  },
  {
   "cell_type": "code",
   "execution_count": 78,
   "metadata": {},
   "outputs": [],
   "source": [
    "X = New2_df.drop('close', axis=1)\n",
    "y = New2_df['close']"
   ]
  },
  {
   "cell_type": "code",
   "execution_count": 79,
   "metadata": {},
   "outputs": [
    {
     "data": {
      "text/html": [
       "<div>\n",
       "<style scoped>\n",
       "    .dataframe tbody tr th:only-of-type {\n",
       "        vertical-align: middle;\n",
       "    }\n",
       "\n",
       "    .dataframe tbody tr th {\n",
       "        vertical-align: top;\n",
       "    }\n",
       "\n",
       "    .dataframe thead th {\n",
       "        text-align: right;\n",
       "    }\n",
       "</style>\n",
       "<table border=\"1\" class=\"dataframe\">\n",
       "  <thead>\n",
       "    <tr style=\"text-align: right;\">\n",
       "      <th></th>\n",
       "      <th>subjectivity</th>\n",
       "      <th>polarity</th>\n",
       "      <th>Compound</th>\n",
       "      <th>Negative</th>\n",
       "      <th>Neutral</th>\n",
       "      <th>Positive</th>\n",
       "    </tr>\n",
       "  </thead>\n",
       "  <tbody>\n",
       "    <tr>\n",
       "      <th>0</th>\n",
       "      <td>0.293056</td>\n",
       "      <td>0.582071</td>\n",
       "      <td>0.04275</td>\n",
       "      <td>0.297297</td>\n",
       "      <td>0.779</td>\n",
       "      <td>0.146382</td>\n",
       "    </tr>\n",
       "    <tr>\n",
       "      <th>1</th>\n",
       "      <td>0.407692</td>\n",
       "      <td>0.438811</td>\n",
       "      <td>0.36800</td>\n",
       "      <td>0.274775</td>\n",
       "      <td>0.766</td>\n",
       "      <td>0.182566</td>\n",
       "    </tr>\n",
       "    <tr>\n",
       "      <th>2</th>\n",
       "      <td>0.481895</td>\n",
       "      <td>0.442853</td>\n",
       "      <td>0.92740</td>\n",
       "      <td>0.216216</td>\n",
       "      <td>0.802</td>\n",
       "      <td>0.167763</td>\n",
       "    </tr>\n",
       "    <tr>\n",
       "      <th>3</th>\n",
       "      <td>0.465542</td>\n",
       "      <td>0.669202</td>\n",
       "      <td>0.74675</td>\n",
       "      <td>0.326577</td>\n",
       "      <td>0.691</td>\n",
       "      <td>0.269737</td>\n",
       "    </tr>\n",
       "    <tr>\n",
       "      <th>4</th>\n",
       "      <td>0.436176</td>\n",
       "      <td>0.340319</td>\n",
       "      <td>0.05330</td>\n",
       "      <td>0.265766</td>\n",
       "      <td>0.802</td>\n",
       "      <td>0.131579</td>\n",
       "    </tr>\n",
       "  </tbody>\n",
       "</table>\n",
       "</div>"
      ],
      "text/plain": [
       "   subjectivity  polarity  Compound  Negative  Neutral  Positive\n",
       "0      0.293056  0.582071   0.04275  0.297297    0.779  0.146382\n",
       "1      0.407692  0.438811   0.36800  0.274775    0.766  0.182566\n",
       "2      0.481895  0.442853   0.92740  0.216216    0.802  0.167763\n",
       "3      0.465542  0.669202   0.74675  0.326577    0.691  0.269737\n",
       "4      0.436176  0.340319   0.05330  0.265766    0.802  0.131579"
      ]
     },
     "execution_count": 79,
     "metadata": {},
     "output_type": "execute_result"
    }
   ],
   "source": [
    "X.head()"
   ]
  },
  {
   "cell_type": "code",
   "execution_count": 80,
   "metadata": {},
   "outputs": [
    {
     "data": {
      "text/plain": [
       "(4164, 6)"
      ]
     },
     "execution_count": 80,
     "metadata": {},
     "output_type": "execute_result"
    }
   ],
   "source": [
    "x_train, x_test, y_train, y_test = train_test_split(X, y, test_size=0.2, random_state = 0)\n",
    "x_train.shape"
   ]
  },
  {
   "cell_type": "code",
   "execution_count": 81,
   "metadata": {},
   "outputs": [
    {
     "data": {
      "text/html": [
       "<div>\n",
       "<style scoped>\n",
       "    .dataframe tbody tr th:only-of-type {\n",
       "        vertical-align: middle;\n",
       "    }\n",
       "\n",
       "    .dataframe tbody tr th {\n",
       "        vertical-align: top;\n",
       "    }\n",
       "\n",
       "    .dataframe thead th {\n",
       "        text-align: right;\n",
       "    }\n",
       "</style>\n",
       "<table border=\"1\" class=\"dataframe\">\n",
       "  <thead>\n",
       "    <tr style=\"text-align: right;\">\n",
       "      <th></th>\n",
       "      <th>subjectivity</th>\n",
       "      <th>polarity</th>\n",
       "      <th>Compound</th>\n",
       "      <th>Negative</th>\n",
       "      <th>Neutral</th>\n",
       "      <th>Positive</th>\n",
       "    </tr>\n",
       "  </thead>\n",
       "  <tbody>\n",
       "    <tr>\n",
       "      <th>2410</th>\n",
       "      <td>0.439000</td>\n",
       "      <td>0.416734</td>\n",
       "      <td>0.00015</td>\n",
       "      <td>0.346847</td>\n",
       "      <td>0.726</td>\n",
       "      <td>0.197368</td>\n",
       "    </tr>\n",
       "    <tr>\n",
       "      <th>1879</th>\n",
       "      <td>0.411504</td>\n",
       "      <td>0.496722</td>\n",
       "      <td>0.83340</td>\n",
       "      <td>0.317568</td>\n",
       "      <td>0.716</td>\n",
       "      <td>0.235197</td>\n",
       "    </tr>\n",
       "    <tr>\n",
       "      <th>4030</th>\n",
       "      <td>0.394079</td>\n",
       "      <td>0.419209</td>\n",
       "      <td>0.00005</td>\n",
       "      <td>0.344595</td>\n",
       "      <td>0.736</td>\n",
       "      <td>0.182566</td>\n",
       "    </tr>\n",
       "    <tr>\n",
       "      <th>164</th>\n",
       "      <td>0.437373</td>\n",
       "      <td>0.392473</td>\n",
       "      <td>0.00040</td>\n",
       "      <td>0.315315</td>\n",
       "      <td>0.767</td>\n",
       "      <td>0.151316</td>\n",
       "    </tr>\n",
       "    <tr>\n",
       "      <th>1896</th>\n",
       "      <td>0.396563</td>\n",
       "      <td>0.405513</td>\n",
       "      <td>0.00035</td>\n",
       "      <td>0.344595</td>\n",
       "      <td>0.748</td>\n",
       "      <td>0.162829</td>\n",
       "    </tr>\n",
       "    <tr>\n",
       "      <th>3812</th>\n",
       "      <td>0.350855</td>\n",
       "      <td>0.421582</td>\n",
       "      <td>0.00005</td>\n",
       "      <td>0.380631</td>\n",
       "      <td>0.723</td>\n",
       "      <td>0.177632</td>\n",
       "    </tr>\n",
       "    <tr>\n",
       "      <th>1206</th>\n",
       "      <td>0.398237</td>\n",
       "      <td>0.355491</td>\n",
       "      <td>0.00605</td>\n",
       "      <td>0.349099</td>\n",
       "      <td>0.764</td>\n",
       "      <td>0.133224</td>\n",
       "    </tr>\n",
       "    <tr>\n",
       "      <th>3455</th>\n",
       "      <td>0.386579</td>\n",
       "      <td>0.394275</td>\n",
       "      <td>0.00010</td>\n",
       "      <td>0.308559</td>\n",
       "      <td>0.770</td>\n",
       "      <td>0.152961</td>\n",
       "    </tr>\n",
       "    <tr>\n",
       "      <th>4233</th>\n",
       "      <td>0.378945</td>\n",
       "      <td>0.412030</td>\n",
       "      <td>0.00005</td>\n",
       "      <td>0.344595</td>\n",
       "      <td>0.751</td>\n",
       "      <td>0.157895</td>\n",
       "    </tr>\n",
       "    <tr>\n",
       "      <th>4021</th>\n",
       "      <td>0.388294</td>\n",
       "      <td>0.397896</td>\n",
       "      <td>0.00005</td>\n",
       "      <td>0.346847</td>\n",
       "      <td>0.745</td>\n",
       "      <td>0.166118</td>\n",
       "    </tr>\n",
       "  </tbody>\n",
       "</table>\n",
       "</div>"
      ],
      "text/plain": [
       "      subjectivity  polarity  Compound  Negative  Neutral  Positive\n",
       "2410      0.439000  0.416734   0.00015  0.346847    0.726  0.197368\n",
       "1879      0.411504  0.496722   0.83340  0.317568    0.716  0.235197\n",
       "4030      0.394079  0.419209   0.00005  0.344595    0.736  0.182566\n",
       "164       0.437373  0.392473   0.00040  0.315315    0.767  0.151316\n",
       "1896      0.396563  0.405513   0.00035  0.344595    0.748  0.162829\n",
       "3812      0.350855  0.421582   0.00005  0.380631    0.723  0.177632\n",
       "1206      0.398237  0.355491   0.00605  0.349099    0.764  0.133224\n",
       "3455      0.386579  0.394275   0.00010  0.308559    0.770  0.152961\n",
       "4233      0.378945  0.412030   0.00005  0.344595    0.751  0.157895\n",
       "4021      0.388294  0.397896   0.00005  0.346847    0.745  0.166118"
      ]
     },
     "execution_count": 81,
     "metadata": {},
     "output_type": "execute_result"
    }
   ],
   "source": [
    "x_train[:10]"
   ]
  },
  {
   "cell_type": "markdown",
   "metadata": {},
   "source": [
    "### Random Forest Regressor"
   ]
  },
  {
   "cell_type": "code",
   "execution_count": 82,
   "metadata": {},
   "outputs": [],
   "source": [
    "RF = RandomForestRegressor()\n",
    "RF.fit(x_train, y_train)\n",
    "Pred = RF.predict(x_test)"
   ]
  },
  {
   "cell_type": "code",
   "execution_count": 83,
   "metadata": {},
   "outputs": [
    {
     "name": "stdout",
     "output_type": "stream",
     "text": [
      "[0.43111324 0.52288683 0.10355687 0.28730037 0.2370248  0.10892264\n",
      " 0.06073359 0.47141458 0.40934091 0.14347426]\n",
      "3929    0.407293\n",
      "4806    0.574562\n",
      "1552    0.176995\n",
      "2566    0.266117\n",
      "270     0.012117\n",
      "766     0.052320\n",
      "54      0.020129\n",
      "4079    0.495294\n",
      "2824    0.225893\n",
      "1737    0.297342\n",
      "Name: close, dtype: float64\n",
      "0.01896653721681281\n"
     ]
    }
   ],
   "source": [
    "print(Pred[:10])\n",
    "print(y_test[:10])\n",
    "print(mean_squared_error(Pred,y_test))"
   ]
  },
  {
   "cell_type": "markdown",
   "metadata": {},
   "source": [
    "### ADA Boost Regressor"
   ]
  },
  {
   "cell_type": "code",
   "execution_count": 84,
   "metadata": {},
   "outputs": [],
   "source": [
    "ADB = AdaBoostRegressor()\n",
    "ADB.fit(x_train, y_train)\n",
    "Pred_2 = ADB.predict(x_test)"
   ]
  },
  {
   "cell_type": "code",
   "execution_count": 85,
   "metadata": {},
   "outputs": [
    {
     "name": "stdout",
     "output_type": "stream",
     "text": [
      "0.023592714605828083\n"
     ]
    }
   ],
   "source": [
    "print(mean_squared_error(Pred_2, y_test))"
   ]
  },
  {
   "cell_type": "markdown",
   "metadata": {},
   "source": [
    "### Decision Tree Regressor"
   ]
  },
  {
   "cell_type": "code",
   "execution_count": 86,
   "metadata": {},
   "outputs": [],
   "source": [
    "from sklearn.tree import DecisionTreeRegressor\n",
    "DTS = DecisionTreeRegressor()\n",
    "DTS.fit(x_train, y_train)\n",
    "Pred_3 = DTS.predict(x_test)"
   ]
  },
  {
   "cell_type": "code",
   "execution_count": 87,
   "metadata": {},
   "outputs": [
    {
     "name": "stdout",
     "output_type": "stream",
     "text": [
      "[0.27787879 0.58696215 0.15128031 0.25286285 0.33856723 0.20946204\n",
      " 0.02809797 0.54445386 0.45319576 0.25428074]\n",
      "3929    0.407293\n",
      "4806    0.574562\n",
      "1552    0.176995\n",
      "2566    0.266117\n",
      "270     0.012117\n",
      "766     0.052320\n",
      "54      0.020129\n",
      "4079    0.495294\n",
      "2824    0.225893\n",
      "1737    0.297342\n",
      "Name: close, dtype: float64\n",
      "0.04052099683864032\n"
     ]
    }
   ],
   "source": [
    "print(Pred_3[:10])\n",
    "print(y_test[:10])\n",
    "print(mean_squared_error(Pred_3,y_test))"
   ]
  },
  {
   "cell_type": "markdown",
   "metadata": {},
   "source": [
    "### LGBM Regressor"
   ]
  },
  {
   "cell_type": "code",
   "execution_count": 88,
   "metadata": {},
   "outputs": [
    {
     "name": "stdout",
     "output_type": "stream",
     "text": [
      "[LightGBM] [Warning] Auto-choosing col-wise multi-threading, the overhead of testing was 0.000936 seconds.\n",
      "You can set `force_col_wise=true` to remove the overhead.\n",
      "[LightGBM] [Info] Total Bins 1184\n",
      "[LightGBM] [Info] Number of data points in the train set: 4164, number of used features: 6\n",
      "[LightGBM] [Info] Start training from score 0.310049\n"
     ]
    },
    {
     "data": {
      "text/plain": [
       "LGBMRegressor()"
      ]
     },
     "execution_count": 88,
     "metadata": {},
     "output_type": "execute_result"
    }
   ],
   "source": [
    "LGBM = lightgbm.LGBMRegressor()\n",
    "LGBM.fit(x_train, y_train)"
   ]
  },
  {
   "cell_type": "code",
   "execution_count": 89,
   "metadata": {},
   "outputs": [
    {
     "name": "stdout",
     "output_type": "stream",
     "text": [
      "0.01924198916384069\n"
     ]
    }
   ],
   "source": [
    "Pred_4 = LGBM.predict(x_test)\n",
    "print(mean_squared_error(Pred_4,y_test))"
   ]
  },
  {
   "cell_type": "markdown",
   "metadata": {},
   "source": [
    "### XGB Regressor"
   ]
  },
  {
   "cell_type": "code",
   "execution_count": 90,
   "metadata": {},
   "outputs": [
    {
     "data": {
      "text/plain": [
       "XGBRegressor(base_score=None, booster=None, callbacks=None,\n",
       "             colsample_bylevel=None, colsample_bynode=None,\n",
       "             colsample_bytree=None, early_stopping_rounds=None,\n",
       "             enable_categorical=False, eval_metric=None, feature_types=None,\n",
       "             gamma=None, gpu_id=None, grow_policy=None, importance_type=None,\n",
       "             interaction_constraints=None, learning_rate=None, max_bin=None,\n",
       "             max_cat_threshold=None, max_cat_to_onehot=None,\n",
       "             max_delta_step=None, max_depth=None, max_leaves=None,\n",
       "             min_child_weight=None, missing=nan, monotone_constraints=None,\n",
       "             n_estimators=100, n_jobs=None, num_parallel_tree=None,\n",
       "             predictor=None, random_state=None, ...)"
      ]
     },
     "execution_count": 90,
     "metadata": {},
     "output_type": "execute_result"
    }
   ],
   "source": [
    "XGB = xgboost.XGBRegressor()\n",
    "XGB.fit(x_train, y_train)"
   ]
  },
  {
   "cell_type": "code",
   "execution_count": 91,
   "metadata": {},
   "outputs": [
    {
     "name": "stdout",
     "output_type": "stream",
     "text": [
      "0.021085088916248825\n"
     ]
    }
   ],
   "source": [
    "Pred_5 = XGB.predict(x_test)\n",
    "print(mean_squared_error(Pred_5,y_test))"
   ]
  },
  {
   "cell_type": "markdown",
   "metadata": {},
   "source": [
    "### **We observe that Random Forest & XGB model performs the best for the sentiment analysis**"
   ]
  },
  {
   "cell_type": "markdown",
   "metadata": {},
   "source": []
  }
 ],
 "metadata": {
  "kernelspec": {
   "display_name": "Python 3 (ipykernel)",
   "language": "python",
   "name": "python3"
  },
  "language_info": {
   "codemirror_mode": {
    "name": "ipython",
    "version": 3
   },
   "file_extension": ".py",
   "mimetype": "text/x-python",
   "name": "python",
   "nbconvert_exporter": "python",
   "pygments_lexer": "ipython3",
   "version": "3.9.12"
  },
  "orig_nbformat": 4
 },
 "nbformat": 4,
 "nbformat_minor": 2
}
